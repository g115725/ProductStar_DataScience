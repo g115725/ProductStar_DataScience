{
 "cells": [
  {
   "cell_type": "code",
   "execution_count": 1,
   "metadata": {},
   "outputs": [
    {
     "name": "stdout",
     "output_type": "stream",
     "text": [
      "Hello world!\n"
     ]
    }
   ],
   "source": [
    "print('Hello world!')"
   ]
  },
  {
   "cell_type": "code",
   "execution_count": 2,
   "metadata": {},
   "outputs": [],
   "source": [
    "import requests as req"
   ]
  },
  {
   "cell_type": "code",
   "execution_count": 2,
   "metadata": {},
   "outputs": [
    {
     "data": {
      "text/plain": [
       "{'ok': True,\n",
       " 'result': [{'update_id': 797425897,\n",
       "   'message': {'message_id': 89,\n",
       "    'from': {'id': 102982557,\n",
       "     'is_bot': False,\n",
       "     'first_name': 'Nikolay',\n",
       "     'last_name': 'Pekaln',\n",
       "     'username': 'pekaln_na',\n",
       "     'language_code': 'ru'},\n",
       "    'chat': {'id': 102982557,\n",
       "     'first_name': 'Nikolay',\n",
       "     'last_name': 'Pekaln',\n",
       "     'username': 'pekaln_na',\n",
       "     'type': 'private'},\n",
       "    'date': 1594906363,\n",
       "    'text': 'фыв'}},\n",
       "  {'update_id': 797425898,\n",
       "   'edited_message': {'message_id': 89,\n",
       "    'from': {'id': 102982557,\n",
       "     'is_bot': False,\n",
       "     'first_name': 'Nikolay',\n",
       "     'last_name': 'Pekaln',\n",
       "     'username': 'pekaln_na',\n",
       "     'language_code': 'ru'},\n",
       "    'chat': {'id': 102982557,\n",
       "     'first_name': 'Nikolay',\n",
       "     'last_name': 'Pekaln',\n",
       "     'username': 'pekaln_na',\n",
       "     'type': 'private'},\n",
       "    'date': 1594906363,\n",
       "    'edit_date': 1594906659,\n",
       "    'text': 'фывфывфыв'}}]}"
      ]
     },
     "execution_count": 2,
     "metadata": {},
     "output_type": "execute_result"
    }
   ],
   "source": [
    "rs = req.get('https://api.telegram.org/bot1382789583:AAFibPwHG8JXsv35M_oBFuMy5MLlnEJN54o/getUpdates?timeout=30&offset=797425839')\n",
    "rs.json()"
   ]
  },
  {
   "cell_type": "code",
   "execution_count": 6,
   "metadata": {},
   "outputs": [
    {
     "data": {
      "text/plain": [
       "{'ok': True,\n",
       " 'result': [{'update_id': 797425836,\n",
       "   'message': {'message_id': 3,\n",
       "    'from': {'id': 102982557,\n",
       "     'is_bot': False,\n",
       "     'first_name': 'Nikolay',\n",
       "     'last_name': 'Pekaln',\n",
       "     'username': 'pekaln_na',\n",
       "     'language_code': 'ru'},\n",
       "    'chat': {'id': 102982557,\n",
       "     'first_name': 'Nikolay',\n",
       "     'last_name': 'Pekaln',\n",
       "     'username': 'pekaln_na',\n",
       "     'type': 'private'},\n",
       "    'date': 1594574101,\n",
       "    'text': '!!'}}]}"
      ]
     },
     "execution_count": 6,
     "metadata": {},
     "output_type": "execute_result"
    }
   ],
   "source": [
    "rs.json()"
   ]
  },
  {
   "cell_type": "code",
   "execution_count": 8,
   "metadata": {},
   "outputs": [
    {
     "data": {
      "text/plain": [
       "<Response [200]>"
      ]
     },
     "execution_count": 8,
     "metadata": {},
     "output_type": "execute_result"
    }
   ],
   "source": [
    "req.post('https://api.telegram.org/bot1382789583:AAFibPwHG8JXsv35M_oBFuMy5MLlnEJN54o/sendMessage?chat_id=102982557&text=Hello!')"
   ]
  },
  {
   "cell_type": "code",
   "execution_count": 9,
   "metadata": {},
   "outputs": [],
   "source": [
    "def say_bot(s):\n",
    "    req.post(f'https://api.telegram.org/bot1382789583:AAFibPwHG8JXsv35M_oBFuMy5MLlnEJN54o/sendMessage?chat_id=102982557&text={s}')"
   ]
  },
  {
   "cell_type": "code",
   "execution_count": 18,
   "metadata": {},
   "outputs": [],
   "source": [
    "offset = 797425840"
   ]
  },
  {
   "cell_type": "code",
   "execution_count": null,
   "metadata": {},
   "outputs": [
    {
     "name": "stdout",
     "output_type": "stream",
     "text": [
      "b'Wolfram|Alpha did not understand your input'\n"
     ]
    }
   ],
   "source": [
    "import re\n",
    "import requests as req\n",
    "from io import BytesIO\n",
    "from datetime import datetime\n",
    "from urllib.parse import quote\n",
    "\n",
    "bot_id = 'bot1382789583:AAFibPwHG8JXsv35M_oBFuMy5MLlnEJN54o'\n",
    "chat_id = '102982557'\n",
    "timeout = 30\n",
    "app_id = '6Y8QUA-Q596Q5J88U'\n",
    "\n",
    "def say_bot(s):\n",
    "    req.post(f'https://api.telegram.org/{bot_id}/sendMessage?chat_id={chat_id}&text={s}')\n",
    "    \n",
    "def send_photo(f):\n",
    "    req.post(f'https://api.telegram.org/{bot_id}/sendPhoto?chat_id={chat_id}', files={'photo': f})\n",
    "    \n",
    "while True:\n",
    "    rs = req.get(f'https://api.telegram.org/{bot_id}/getUpdates?timeout={timeout}&offset={offset}')\n",
    "    if rs:\n",
    "        res = rs.json()\n",
    "        if 'result' in res and len(res['result'])>0 and 'update_id' in res['result'][-1]:\n",
    "            last_msg = res['result'][-1]\n",
    "            offset = last_msg['update_id'] + 1\n",
    "            if 'message' in last_msg:\n",
    "                t_s = last_msg['message']['text']\n",
    "                if t_s == 'X':\n",
    "                    print('Finished!')\n",
    "                    break\n",
    "                elif t_s == 'now':\n",
    "                    say_bot(datetime.now())\n",
    "                else:\n",
    "                    rs = req.post(f'http://api.wolframalpha.com/v1/simple?appid={app_id}&i={quote(t_s)}')\n",
    "                    if rs:\n",
    "                        bf = BytesIO(rs.content)\n",
    "                        send_photo(bf)\n",
    "                    else:\n",
    "                        print(rs.content)\n",
    "    else:\n",
    "        break"
   ]
  },
  {
   "cell_type": "code",
   "execution_count": 46,
   "metadata": {},
   "outputs": [],
   "source": [
    "t_s = '2+3-7/9**2.8e-10-(0+9)'\n",
    "t_ns = '2+3-7/9**2.8e-10asd'"
   ]
  },
  {
   "cell_type": "code",
   "execution_count": 15,
   "metadata": {},
   "outputs": [],
   "source": [
    "app_id = '6Y8QUA-Q596Q5J88U'\n",
    "rs = req.post(f'http://api.wolframalpha.com/v1/simple?appid={app_id}&i=2*3')\n",
    "    "
   ]
  },
  {
   "cell_type": "code",
   "execution_count": 17,
   "metadata": {},
   "outputs": [
    {
     "data": {
      "text/plain": [
       "1"
      ]
     },
     "execution_count": 17,
     "metadata": {},
     "output_type": "execute_result"
    }
   ],
   "source": [
    "1\n"
   ]
  },
  {
   "cell_type": "code",
   "execution_count": 18,
   "metadata": {},
   "outputs": [],
   "source": [
    "with open('s1.gif','wb') as f:\n",
    "    f.write(rs.content)\n"
   ]
  }
 ],
 "metadata": {
  "kernelspec": {
   "display_name": "Python 3",
   "language": "python",
   "name": "python3"
  },
  "language_info": {
   "codemirror_mode": {
    "name": "ipython",
    "version": 3
   },
   "file_extension": ".py",
   "mimetype": "text/x-python",
   "name": "python",
   "nbconvert_exporter": "python",
   "pygments_lexer": "ipython3",
   "version": "3.8.3"
  }
 },
 "nbformat": 4,
 "nbformat_minor": 4
}

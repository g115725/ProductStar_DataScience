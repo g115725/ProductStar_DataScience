{
 "cells": [
  {
   "cell_type": "markdown",
   "metadata": {},
   "source": [
    "# 1. Введение"
   ]
  },
  {
   "cell_type": "markdown",
   "metadata": {},
   "source": [
    "## Вспомним как выглядит цикл решения мл-задачи"
   ]
  },
  {
   "cell_type": "markdown",
   "metadata": {},
   "source": [
    "![crisp-dm](./images/crisp-dm.png)"
   ]
  },
  {
   "cell_type": "markdown",
   "metadata": {},
   "source": [
    "### Предсказание оттока клиентов"
   ]
  },
  {
   "cell_type": "markdown",
   "metadata": {},
   "source": [
    "Чтобы потренироваться решать задачу **оттока**, сначала поймем зачем может понадобиться такая задача.\n",
    "\n",
    "Представим, что у нас есть банк, и клиенты хранят у нас свои деньги, понятно, что мы можем использовать их средства для операций компании. И чем больше у нас запасы, тем больший потенциал у нас есть. Хорошо, получается, нам важен каждый клиент.\n",
    "\n",
    "Предположим, что всего у нас 100 000 клиентов и каждый хранит на своем счете **1 миллион рублей**. Получается у нас есть **10 миллиардов**. \\\n",
    "**Ого! И это только средств, а сколько мы можем заработать на каждом миллионе!**\n"
   ]
  },
  {
   "cell_type": "markdown",
   "metadata": {},
   "source": [
    "![churn2](./images/churn2.png)"
   ]
  },
  {
   "cell_type": "markdown",
   "metadata": {},
   "source": [
    "А что, если вдруг 10% клиентов от нас уйдет?\n",
    "\n",
    "**Мы потеряем миллиард рублей средств, да еще и нашу прибыль сократим. \\\n",
    "Нужно стараться удержать наших клиентов, каждый очень ценен!**\n",
    "\n",
    "Хорошо, мы поняли нашу задачу - это бинарная классификация на два класса **уйдет** клиент из банка или **не уйдет**.\n",
    "Будем предсказывать вероятность того, что клиент оттечет, то есть число в диапазоне от 0 до 1.\n",
    "\n",
    "\n",
    "Бизнес выгода ясна, также представим, что данные мы тоже придумали откуда достать.\n",
    "\n",
    "Теперь нам нужно понять **как же уменьшить наши потери** в миллион до какого-то небольшого числа?"
   ]
  },
  {
   "cell_type": "markdown",
   "metadata": {},
   "source": [
    "![churn4](./images/churn4.png)"
   ]
  },
  {
   "cell_type": "markdown",
   "metadata": {},
   "source": [
    "### Составим план действий:"
   ]
  },
  {
   "cell_type": "markdown",
   "metadata": {},
   "source": [
    "#### 1) Подготовка данных\n",
    "    * Выборка данных\n",
    "    * Разведочный анализ данных\n",
    "    * Очистка данных на основе анализа\n",
    "    * Генерация вспомогательных данных\n",
    "    \n",
    "#### 2) Моделирование\n",
    "    * Выбор алгоритма\t\n",
    "    * Выбор мета-метрики\t\n",
    "    * План тестирования алгоритма\n",
    "    * Обучение моделей\n",
    "    * Оценка качества модели"
   ]
  },
  {
   "cell_type": "markdown",
   "metadata": {},
   "source": [
    "# 2. Подготовка данных\n"
   ]
  },
  {
   "cell_type": "markdown",
   "metadata": {},
   "source": [
    "![churn5](./images/churn5.png)"
   ]
  },
  {
   "cell_type": "markdown",
   "metadata": {},
   "source": [
    "   - [x] Выборка данных\n",
    "   - [ ] Разведочный анализ данных\n",
    "   - [ ] Очистка данных на основе анализа\n",
    "   - [ ] Генерация вспомогательных данных\n",
    "   - [ ] Построение бейзлайна"
   ]
  },
  {
   "cell_type": "markdown",
   "metadata": {},
   "source": [
    "Выборка данных у нас уже есть - мы будем использовать данные с сайта kaggle для такой же задачи. \\\n",
    "**Ссылка на соревнование:** https://www.kaggle.com/adammaus/predicting-churn-for-bank-customers"
   ]
  },
  {
   "cell_type": "markdown",
   "metadata": {},
   "source": [
    "**Разведочный анализ данных:**\n",
    "В рамках разведочного анализа данных, его также называют **EDA(Exploratory Data Analysis)**, мы стремимся определить и визуализировать, какие факторы способствуют оттоку клиентов."
   ]
  },
  {
   "cell_type": "code",
   "execution_count": 1,
   "metadata": {},
   "outputs": [],
   "source": [
    "#Наши стандартные библиотеки\n",
    "import numpy as np\n",
    "import pandas as pd\n",
    "\n",
    "# Для визуализации\n",
    "import matplotlib.pyplot as plt\n",
    "%matplotlib inline\n",
    "import seaborn as sns\n",
    "pd.options.display.max_rows = None\n",
    "pd.options.display.max_columns = None"
   ]
  },
  {
   "cell_type": "code",
   "execution_count": 2,
   "metadata": {},
   "outputs": [],
   "source": [
    "import matplotlib.pyplot as plt\n",
    "\n",
    "from sklearn.metrics import roc_auc_score\n",
    "from sklearn.preprocessing import StandardScaler\n",
    "from sklearn.linear_model import LogisticRegression\n",
    "from sklearn.model_selection import train_test_split\n",
    "from sklearn.model_selection import KFold, StratifiedKFold\n",
    "from sklearn.model_selection import cross_val_score\n",
    "from sklearn.pipeline import Pipeline\n"
   ]
  },
  {
   "cell_type": "code",
   "execution_count": 3,
   "metadata": {},
   "outputs": [
    {
     "data": {
      "text/plain": [
       "'C:\\\\Users\\\\olegi\\\\Python-lab-and-homework\\\\edu-data\\\\workshop14\\\\Project'"
      ]
     },
     "execution_count": 3,
     "metadata": {},
     "output_type": "execute_result"
    }
   ],
   "source": [
    "%pwd"
   ]
  },
  {
   "cell_type": "code",
   "execution_count": 4,
   "metadata": {},
   "outputs": [],
   "source": [
    "train = pd.read_csv('./data/train.csv')\n",
    "test = pd.read_csv('./data/test.csv')"
   ]
  },
  {
   "cell_type": "code",
   "execution_count": 5,
   "metadata": {
    "scrolled": true
   },
   "outputs": [
    {
     "data": {
      "text/html": [
       "<div>\n",
       "<style scoped>\n",
       "    .dataframe tbody tr th:only-of-type {\n",
       "        vertical-align: middle;\n",
       "    }\n",
       "\n",
       "    .dataframe tbody tr th {\n",
       "        vertical-align: top;\n",
       "    }\n",
       "\n",
       "    .dataframe thead th {\n",
       "        text-align: right;\n",
       "    }\n",
       "</style>\n",
       "<table border=\"1\" class=\"dataframe\">\n",
       "  <thead>\n",
       "    <tr style=\"text-align: right;\">\n",
       "      <th></th>\n",
       "      <th>RowNumber</th>\n",
       "      <th>CustomerId</th>\n",
       "      <th>Surname</th>\n",
       "      <th>CreditScore</th>\n",
       "      <th>Geography</th>\n",
       "      <th>Gender</th>\n",
       "      <th>Age</th>\n",
       "      <th>Tenure</th>\n",
       "      <th>Balance</th>\n",
       "      <th>NumOfProducts</th>\n",
       "      <th>HasCrCard</th>\n",
       "      <th>IsActiveMember</th>\n",
       "      <th>EstimatedSalary</th>\n",
       "      <th>Exited</th>\n",
       "    </tr>\n",
       "  </thead>\n",
       "  <tbody>\n",
       "    <tr>\n",
       "      <th>0</th>\n",
       "      <td>8160</td>\n",
       "      <td>15637427</td>\n",
       "      <td>Lu</td>\n",
       "      <td>461</td>\n",
       "      <td>Spain</td>\n",
       "      <td>Female</td>\n",
       "      <td>25</td>\n",
       "      <td>6</td>\n",
       "      <td>0.00</td>\n",
       "      <td>2</td>\n",
       "      <td>1</td>\n",
       "      <td>1</td>\n",
       "      <td>15306.29</td>\n",
       "      <td>0</td>\n",
       "    </tr>\n",
       "    <tr>\n",
       "      <th>1</th>\n",
       "      <td>6333</td>\n",
       "      <td>15793046</td>\n",
       "      <td>Holden</td>\n",
       "      <td>619</td>\n",
       "      <td>France</td>\n",
       "      <td>Female</td>\n",
       "      <td>35</td>\n",
       "      <td>4</td>\n",
       "      <td>90413.12</td>\n",
       "      <td>1</td>\n",
       "      <td>1</td>\n",
       "      <td>1</td>\n",
       "      <td>20555.21</td>\n",
       "      <td>0</td>\n",
       "    </tr>\n",
       "    <tr>\n",
       "      <th>2</th>\n",
       "      <td>8896</td>\n",
       "      <td>15658972</td>\n",
       "      <td>Foster</td>\n",
       "      <td>699</td>\n",
       "      <td>France</td>\n",
       "      <td>Female</td>\n",
       "      <td>40</td>\n",
       "      <td>8</td>\n",
       "      <td>122038.34</td>\n",
       "      <td>1</td>\n",
       "      <td>1</td>\n",
       "      <td>0</td>\n",
       "      <td>102085.35</td>\n",
       "      <td>0</td>\n",
       "    </tr>\n",
       "    <tr>\n",
       "      <th>3</th>\n",
       "      <td>5352</td>\n",
       "      <td>15679048</td>\n",
       "      <td>Koger</td>\n",
       "      <td>558</td>\n",
       "      <td>Germany</td>\n",
       "      <td>Male</td>\n",
       "      <td>41</td>\n",
       "      <td>2</td>\n",
       "      <td>124227.14</td>\n",
       "      <td>1</td>\n",
       "      <td>1</td>\n",
       "      <td>1</td>\n",
       "      <td>111184.67</td>\n",
       "      <td>0</td>\n",
       "    </tr>\n",
       "    <tr>\n",
       "      <th>4</th>\n",
       "      <td>4315</td>\n",
       "      <td>15582276</td>\n",
       "      <td>Greco</td>\n",
       "      <td>638</td>\n",
       "      <td>France</td>\n",
       "      <td>Male</td>\n",
       "      <td>34</td>\n",
       "      <td>5</td>\n",
       "      <td>133501.36</td>\n",
       "      <td>1</td>\n",
       "      <td>0</td>\n",
       "      <td>1</td>\n",
       "      <td>155643.04</td>\n",
       "      <td>0</td>\n",
       "    </tr>\n",
       "  </tbody>\n",
       "</table>\n",
       "</div>"
      ],
      "text/plain": [
       "   RowNumber  CustomerId Surname  CreditScore Geography  Gender  Age  Tenure  \\\n",
       "0       8160    15637427      Lu          461     Spain  Female   25       6   \n",
       "1       6333    15793046  Holden          619    France  Female   35       4   \n",
       "2       8896    15658972  Foster          699    France  Female   40       8   \n",
       "3       5352    15679048   Koger          558   Germany    Male   41       2   \n",
       "4       4315    15582276   Greco          638    France    Male   34       5   \n",
       "\n",
       "     Balance  NumOfProducts  HasCrCard  IsActiveMember  EstimatedSalary  \\\n",
       "0       0.00              2          1               1         15306.29   \n",
       "1   90413.12              1          1               1         20555.21   \n",
       "2  122038.34              1          1               0        102085.35   \n",
       "3  124227.14              1          1               1        111184.67   \n",
       "4  133501.36              1          0               1        155643.04   \n",
       "\n",
       "   Exited  \n",
       "0       0  \n",
       "1       0  \n",
       "2       0  \n",
       "3       0  \n",
       "4       0  "
      ]
     },
     "execution_count": 5,
     "metadata": {},
     "output_type": "execute_result"
    }
   ],
   "source": [
    "train.head()"
   ]
  },
  {
   "cell_type": "code",
   "execution_count": 6,
   "metadata": {},
   "outputs": [
    {
     "data": {
      "text/html": [
       "<div>\n",
       "<style scoped>\n",
       "    .dataframe tbody tr th:only-of-type {\n",
       "        vertical-align: middle;\n",
       "    }\n",
       "\n",
       "    .dataframe tbody tr th {\n",
       "        vertical-align: top;\n",
       "    }\n",
       "\n",
       "    .dataframe thead th {\n",
       "        text-align: right;\n",
       "    }\n",
       "</style>\n",
       "<table border=\"1\" class=\"dataframe\">\n",
       "  <thead>\n",
       "    <tr style=\"text-align: right;\">\n",
       "      <th></th>\n",
       "      <th>RowNumber</th>\n",
       "      <th>CustomerId</th>\n",
       "      <th>Surname</th>\n",
       "      <th>CreditScore</th>\n",
       "      <th>Geography</th>\n",
       "      <th>Gender</th>\n",
       "      <th>Age</th>\n",
       "      <th>Tenure</th>\n",
       "      <th>Balance</th>\n",
       "      <th>NumOfProducts</th>\n",
       "      <th>HasCrCard</th>\n",
       "      <th>IsActiveMember</th>\n",
       "      <th>EstimatedSalary</th>\n",
       "    </tr>\n",
       "  </thead>\n",
       "  <tbody>\n",
       "    <tr>\n",
       "      <th>0</th>\n",
       "      <td>4801</td>\n",
       "      <td>15679810</td>\n",
       "      <td>Chapman</td>\n",
       "      <td>690</td>\n",
       "      <td>France</td>\n",
       "      <td>Male</td>\n",
       "      <td>39</td>\n",
       "      <td>6</td>\n",
       "      <td>0.00</td>\n",
       "      <td>2</td>\n",
       "      <td>1</td>\n",
       "      <td>0</td>\n",
       "      <td>160532.88</td>\n",
       "    </tr>\n",
       "    <tr>\n",
       "      <th>1</th>\n",
       "      <td>2102</td>\n",
       "      <td>15778934</td>\n",
       "      <td>Napolitani</td>\n",
       "      <td>678</td>\n",
       "      <td>Spain</td>\n",
       "      <td>Female</td>\n",
       "      <td>49</td>\n",
       "      <td>8</td>\n",
       "      <td>0.00</td>\n",
       "      <td>2</td>\n",
       "      <td>0</td>\n",
       "      <td>1</td>\n",
       "      <td>98090.69</td>\n",
       "    </tr>\n",
       "    <tr>\n",
       "      <th>2</th>\n",
       "      <td>4487</td>\n",
       "      <td>15660646</td>\n",
       "      <td>Fanucci</td>\n",
       "      <td>528</td>\n",
       "      <td>France</td>\n",
       "      <td>Male</td>\n",
       "      <td>35</td>\n",
       "      <td>3</td>\n",
       "      <td>156687.10</td>\n",
       "      <td>1</td>\n",
       "      <td>1</td>\n",
       "      <td>0</td>\n",
       "      <td>199320.77</td>\n",
       "    </tr>\n",
       "    <tr>\n",
       "      <th>3</th>\n",
       "      <td>1127</td>\n",
       "      <td>15593973</td>\n",
       "      <td>Wilkie</td>\n",
       "      <td>663</td>\n",
       "      <td>Spain</td>\n",
       "      <td>Female</td>\n",
       "      <td>33</td>\n",
       "      <td>8</td>\n",
       "      <td>122528.18</td>\n",
       "      <td>1</td>\n",
       "      <td>1</td>\n",
       "      <td>0</td>\n",
       "      <td>196260.30</td>\n",
       "    </tr>\n",
       "    <tr>\n",
       "      <th>4</th>\n",
       "      <td>383</td>\n",
       "      <td>15568240</td>\n",
       "      <td>Ting</td>\n",
       "      <td>492</td>\n",
       "      <td>Germany</td>\n",
       "      <td>Female</td>\n",
       "      <td>30</td>\n",
       "      <td>10</td>\n",
       "      <td>77168.87</td>\n",
       "      <td>2</td>\n",
       "      <td>0</td>\n",
       "      <td>1</td>\n",
       "      <td>146700.22</td>\n",
       "    </tr>\n",
       "  </tbody>\n",
       "</table>\n",
       "</div>"
      ],
      "text/plain": [
       "   RowNumber  CustomerId     Surname  CreditScore Geography  Gender  Age  \\\n",
       "0       4801    15679810     Chapman          690    France    Male   39   \n",
       "1       2102    15778934  Napolitani          678     Spain  Female   49   \n",
       "2       4487    15660646     Fanucci          528    France    Male   35   \n",
       "3       1127    15593973      Wilkie          663     Spain  Female   33   \n",
       "4        383    15568240        Ting          492   Germany  Female   30   \n",
       "\n",
       "   Tenure    Balance  NumOfProducts  HasCrCard  IsActiveMember  \\\n",
       "0       6       0.00              2          1               0   \n",
       "1       8       0.00              2          0               1   \n",
       "2       3  156687.10              1          1               0   \n",
       "3       8  122528.18              1          1               0   \n",
       "4      10   77168.87              2          0               1   \n",
       "\n",
       "   EstimatedSalary  \n",
       "0        160532.88  \n",
       "1         98090.69  \n",
       "2        199320.77  \n",
       "3        196260.30  \n",
       "4        146700.22  "
      ]
     },
     "execution_count": 6,
     "metadata": {},
     "output_type": "execute_result"
    }
   ],
   "source": [
    "test.head()"
   ]
  },
  {
   "cell_type": "markdown",
   "metadata": {},
   "source": [
    "![churn8](./images/churn10.png)"
   ]
  },
  {
   "cell_type": "code",
   "execution_count": 7,
   "metadata": {},
   "outputs": [],
   "source": [
    "from teacher_bot.churn_prediction import ChurnPrediction"
   ]
  },
  {
   "cell_type": "markdown",
   "metadata": {},
   "source": [
    "Это Бот ProductStar он будет проверять твои задания"
   ]
  },
  {
   "cell_type": "code",
   "execution_count": 8,
   "metadata": {},
   "outputs": [
    {
     "name": "stdout",
     "output_type": "stream",
     "text": [
      "Привет! Приятно познакомиться!\n"
     ]
    }
   ],
   "source": [
    "BotProductStar = ChurnPrediction()"
   ]
  },
  {
   "cell_type": "code",
   "execution_count": 9,
   "metadata": {},
   "outputs": [
    {
     "name": "stdout",
     "output_type": "stream",
     "text": [
      "Думаю...\n",
      "Ого! Датасет, сейчас мы будем его исследовать, интересно, что в нем.\n",
      "Сам я не справляюсь - нужна твоя помощь\n"
     ]
    }
   ],
   "source": [
    "BotProductStar.test_task(df = train)"
   ]
  },
  {
   "cell_type": "markdown",
   "metadata": {},
   "source": [
    "### Задание 1. Бот тебе его расскажет - запусти ячейку ниже."
   ]
  },
  {
   "cell_type": "code",
   "execution_count": 11,
   "metadata": {},
   "outputs": [
    {
     "ename": "SyntaxError",
     "evalue": "invalid syntax (Temp/ipykernel_13644/4242978464.py, line 1)",
     "output_type": "error",
     "traceback": [
      "\u001b[1;36m  File \u001b[1;32m\"C:\\Users\\olegi\\AppData\\Local\\Temp/ipykernel_13644/4242978464.py\"\u001b[1;36m, line \u001b[1;32m1\u001b[0m\n\u001b[1;33m    BotProductStar.drop_task(answer=)\u001b[0m\n\u001b[1;37m                                    ^\u001b[0m\n\u001b[1;31mSyntaxError\u001b[0m\u001b[1;31m:\u001b[0m invalid syntax\n"
     ]
    }
   ],
   "source": [
    "BotProductStar.drop_task(answer=)"
   ]
  },
  {
   "cell_type": "markdown",
   "metadata": {},
   "source": [
    "![churn8](./images/churn11.png)"
   ]
  },
  {
   "cell_type": "markdown",
   "metadata": {},
   "source": [
    "### Задание 2. Бот тебе его расскажет - запусти ячейку ниже."
   ]
  },
  {
   "cell_type": "code",
   "execution_count": 10,
   "metadata": {},
   "outputs": [
    {
     "name": "stdout",
     "output_type": "stream",
     "text": [
      "Нужно понять есть ли в датафрейме пропущенные значения и отправить ответ мне\n",
      "Я понимаю только 'Да' или 'Нет'\n"
     ]
    }
   ],
   "source": [
    " BotProductStar.null_task()"
   ]
  },
  {
   "cell_type": "code",
   "execution_count": 11,
   "metadata": {},
   "outputs": [
    {
     "data": {
      "text/plain": [
       "False"
      ]
     },
     "execution_count": 11,
     "metadata": {},
     "output_type": "execute_result"
    }
   ],
   "source": [
    "train.isnull().values.any()"
   ]
  },
  {
   "cell_type": "code",
   "execution_count": 12,
   "metadata": {},
   "outputs": [
    {
     "data": {
      "text/plain": [
       "False"
      ]
     },
     "execution_count": 12,
     "metadata": {},
     "output_type": "execute_result"
    }
   ],
   "source": [
    "test.isnull().values.any()"
   ]
  },
  {
   "cell_type": "code",
   "execution_count": 13,
   "metadata": {},
   "outputs": [
    {
     "name": "stdout",
     "output_type": "stream",
     "text": [
      "Думаю...\n",
      "Ура! Второе задание позади!\n",
      "Следующая кодовая фраза Science\n"
     ]
    }
   ],
   "source": [
    "BotProductStar.null_task(answer='Нет')"
   ]
  },
  {
   "cell_type": "code",
   "execution_count": null,
   "metadata": {},
   "outputs": [],
   "source": [
    "# BotProductStar.null_task(answer=) - раскомментируй меня и отправь ответ в этой переменной либо 'да' либо 'нет'"
   ]
  },
  {
   "cell_type": "markdown",
   "metadata": {},
   "source": [
    "   - [x] Выборка данных\n",
    "   - [ ] Разведочный анализ данных\n",
    "   - [x] Очистка данных на основе анализа\n",
    "   - [ ] Генерация вспомогательных данных"
   ]
  },
  {
   "cell_type": "code",
   "execution_count": 10,
   "metadata": {},
   "outputs": [
    {
     "data": {
      "text/html": [
       "<div>\n",
       "<style scoped>\n",
       "    .dataframe tbody tr th:only-of-type {\n",
       "        vertical-align: middle;\n",
       "    }\n",
       "\n",
       "    .dataframe tbody tr th {\n",
       "        vertical-align: top;\n",
       "    }\n",
       "\n",
       "    .dataframe thead th {\n",
       "        text-align: right;\n",
       "    }\n",
       "</style>\n",
       "<table border=\"1\" class=\"dataframe\">\n",
       "  <thead>\n",
       "    <tr style=\"text-align: right;\">\n",
       "      <th></th>\n",
       "      <th>RowNumber</th>\n",
       "      <th>CustomerId</th>\n",
       "      <th>Surname</th>\n",
       "      <th>CreditScore</th>\n",
       "      <th>Geography</th>\n",
       "      <th>Gender</th>\n",
       "      <th>Age</th>\n",
       "      <th>Tenure</th>\n",
       "      <th>Balance</th>\n",
       "      <th>NumOfProducts</th>\n",
       "      <th>HasCrCard</th>\n",
       "      <th>IsActiveMember</th>\n",
       "      <th>EstimatedSalary</th>\n",
       "      <th>Exited</th>\n",
       "    </tr>\n",
       "  </thead>\n",
       "  <tbody>\n",
       "    <tr>\n",
       "      <th>0</th>\n",
       "      <td>8160</td>\n",
       "      <td>15637427</td>\n",
       "      <td>Lu</td>\n",
       "      <td>461</td>\n",
       "      <td>Spain</td>\n",
       "      <td>Female</td>\n",
       "      <td>25</td>\n",
       "      <td>6</td>\n",
       "      <td>0.00</td>\n",
       "      <td>2</td>\n",
       "      <td>1</td>\n",
       "      <td>1</td>\n",
       "      <td>15306.29</td>\n",
       "      <td>0</td>\n",
       "    </tr>\n",
       "    <tr>\n",
       "      <th>1</th>\n",
       "      <td>6333</td>\n",
       "      <td>15793046</td>\n",
       "      <td>Holden</td>\n",
       "      <td>619</td>\n",
       "      <td>France</td>\n",
       "      <td>Female</td>\n",
       "      <td>35</td>\n",
       "      <td>4</td>\n",
       "      <td>90413.12</td>\n",
       "      <td>1</td>\n",
       "      <td>1</td>\n",
       "      <td>1</td>\n",
       "      <td>20555.21</td>\n",
       "      <td>0</td>\n",
       "    </tr>\n",
       "    <tr>\n",
       "      <th>2</th>\n",
       "      <td>8896</td>\n",
       "      <td>15658972</td>\n",
       "      <td>Foster</td>\n",
       "      <td>699</td>\n",
       "      <td>France</td>\n",
       "      <td>Female</td>\n",
       "      <td>40</td>\n",
       "      <td>8</td>\n",
       "      <td>122038.34</td>\n",
       "      <td>1</td>\n",
       "      <td>1</td>\n",
       "      <td>0</td>\n",
       "      <td>102085.35</td>\n",
       "      <td>0</td>\n",
       "    </tr>\n",
       "    <tr>\n",
       "      <th>3</th>\n",
       "      <td>5352</td>\n",
       "      <td>15679048</td>\n",
       "      <td>Koger</td>\n",
       "      <td>558</td>\n",
       "      <td>Germany</td>\n",
       "      <td>Male</td>\n",
       "      <td>41</td>\n",
       "      <td>2</td>\n",
       "      <td>124227.14</td>\n",
       "      <td>1</td>\n",
       "      <td>1</td>\n",
       "      <td>1</td>\n",
       "      <td>111184.67</td>\n",
       "      <td>0</td>\n",
       "    </tr>\n",
       "    <tr>\n",
       "      <th>4</th>\n",
       "      <td>4315</td>\n",
       "      <td>15582276</td>\n",
       "      <td>Greco</td>\n",
       "      <td>638</td>\n",
       "      <td>France</td>\n",
       "      <td>Male</td>\n",
       "      <td>34</td>\n",
       "      <td>5</td>\n",
       "      <td>133501.36</td>\n",
       "      <td>1</td>\n",
       "      <td>0</td>\n",
       "      <td>1</td>\n",
       "      <td>155643.04</td>\n",
       "      <td>0</td>\n",
       "    </tr>\n",
       "  </tbody>\n",
       "</table>\n",
       "</div>"
      ],
      "text/plain": [
       "   RowNumber  CustomerId Surname  CreditScore Geography  Gender  Age  Tenure  \\\n",
       "0       8160    15637427      Lu          461     Spain  Female   25       6   \n",
       "1       6333    15793046  Holden          619    France  Female   35       4   \n",
       "2       8896    15658972  Foster          699    France  Female   40       8   \n",
       "3       5352    15679048   Koger          558   Germany    Male   41       2   \n",
       "4       4315    15582276   Greco          638    France    Male   34       5   \n",
       "\n",
       "     Balance  NumOfProducts  HasCrCard  IsActiveMember  EstimatedSalary  \\\n",
       "0       0.00              2          1               1         15306.29   \n",
       "1   90413.12              1          1               1         20555.21   \n",
       "2  122038.34              1          1               0        102085.35   \n",
       "3  124227.14              1          1               1        111184.67   \n",
       "4  133501.36              1          0               1        155643.04   \n",
       "\n",
       "   Exited  \n",
       "0       0  \n",
       "1       0  \n",
       "2       0  \n",
       "3       0  \n",
       "4       0  "
      ]
     },
     "execution_count": 10,
     "metadata": {},
     "output_type": "execute_result"
    }
   ],
   "source": [
    "train.head()"
   ]
  },
  {
   "cell_type": "markdown",
   "metadata": {},
   "source": [
    "Данные выглядят, как снимок на определенный момент времени \n",
    "Возможно баланс на заданную дату, что **оставляет много вопросов:**\n",
    "    * Какая это дата и какое значение она имеет?\n",
    "    * Можно ли получить баланс за определенный период времени, а не за одну дату.\n",
    "    * Есть клиенты, которые вышли, но все еще имеют остаток на счете! Что бы это значило? Могли они выйти из продукта, а не из банка?\n",
    "    * Что значит быть активным участником и есть ли в этом разные степени? Может быть, лучше вместо этого предоставить счет транзакций, как по кредитам, так и по дебету счета?\n",
    "Разбивка на продукты, купленные клиентом, может предоставить дополнительную информацию, которая увеличит список продуктов.\n"
   ]
  },
  {
   "cell_type": "markdown",
   "metadata": {},
   "source": [
    "![churn8](./images/churn14.png)"
   ]
  },
  {
   "cell_type": "markdown",
   "metadata": {},
   "source": [
    "Здесь мы приступаем к моделированию без контекста, хотя обычно наличие контекста и лучшее понимание процесса извлечения данных дает более качественные модели."
   ]
  },
  {
   "cell_type": "code",
   "execution_count": null,
   "metadata": {},
   "outputs": [],
   "source": [
    "labels = 'Exited', 'Retained'\n",
    "sizes = [train.Exited[train['Exited']==1].count(), train.Exited[train['Exited']==0].count()]\n",
    "explode = (0, 0.1)\n",
    "fig1, ax1 = plt.subplots(figsize=(10, 8))\n",
    "ax1.pie(sizes, explode=explode, labels=labels, autopct='%1.1f%%',\n",
    "        shadow=True, startangle=90)\n",
    "ax1.axis('equal')\n",
    "plt.title(\"Proportion of customer churned and retained\", size = 20)\n",
    "plt.show()"
   ]
  },
  {
   "cell_type": "markdown",
   "metadata": {},
   "source": [
    "Таким образом, около 20% клиентов ушли. Базовая модель может предполагать, что 20% клиентов уйдут.\n",
    "Учитывая, что 20% - это небольшое число, нам необходимо убедиться, что выбранная модель действительно предсказывает с большой точностью эти 20%, поскольку для банка интересно идентифицировать и сохранить клиентов."
   ]
  },
  {
   "cell_type": "markdown",
   "metadata": {},
   "source": [
    "##### Анализ категориальных переменных"
   ]
  },
  {
   "cell_type": "code",
   "execution_count": null,
   "metadata": {},
   "outputs": [],
   "source": [
    "fig, axarr = plt.subplots(2, 2, figsize=(20, 12))\n",
    "sns.countplot(x='Geography', hue = 'Exited',data = train, ax=axarr[0][0])\n",
    "sns.countplot(x='Gender', hue = 'Exited',data = train, ax=axarr[0][1])\n",
    "sns.countplot(x='HasCrCard', hue = 'Exited',data = train, ax=axarr[1][0])\n",
    "sns.countplot(x='IsActiveMember', hue = 'Exited',data = train, ax=axarr[1][1])"
   ]
  },
  {
   "cell_type": "markdown",
   "metadata": {},
   "source": [
    "**Отметим следующее:**\n",
    "\n",
    "* Большинство данных от лиц из Франции. Возможно, у банка недостаточно ресурсов для обслуживания клиентов в тех областях, где у него меньше клиентов.\n",
    "* Доля сменяющих клиентов женщин также выше, чем доля клиентов-мужчин.\n",
    "* Интересно, что большинство клиентов, которые ушли, - это клиенты с кредитными картами. Учитывая, что у большинства клиентов есть кредитные карты, это может оказаться простым совпадением.\n",
    "* Неудивительно, что у неактивных участников больше отток. \n",
    "* Общая доля неактивных клиентов довольно высока, можно предположить, что банку потребуется программа, направленная на превращение этой группы в активных клиентов."
   ]
  },
  {
   "cell_type": "markdown",
   "metadata": {},
   "source": [
    "##### Анализ количественных переменных"
   ]
  },
  {
   "cell_type": "code",
   "execution_count": null,
   "metadata": {},
   "outputs": [],
   "source": [
    "fig, axarr = plt.subplots(3, 2, figsize=(20, 12))\n",
    "sns.boxplot(y='CreditScore',x = 'Exited', hue = 'Exited',data = train, ax=axarr[0][0])\n",
    "sns.boxplot(y='Age',x = 'Exited', hue = 'Exited',data = train , ax=axarr[0][1])\n",
    "sns.boxplot(y='Tenure',x = 'Exited', hue = 'Exited',data = train, ax=axarr[1][0])\n",
    "sns.boxplot(y='Balance',x = 'Exited', hue = 'Exited',data = train, ax=axarr[1][1])\n",
    "sns.boxplot(y='NumOfProducts',x = 'Exited', hue = 'Exited',data = train, ax=axarr[2][0])\n",
    "sns.boxplot(y='EstimatedSalary',x = 'Exited', hue = 'Exited',data = train, ax=axarr[2][1])"
   ]
  },
  {
   "cell_type": "markdown",
   "metadata": {},
   "source": [
    "**Отметим следующее:**\n",
    "* Нет существенной разницы в распределении кредитного рейтинга между оставшимися и оттекшими клиентами.\n",
    "* Старшие клиенты оттекают чаще, чем более молодые, это намекает на разницу в предпочтениях обслуживания в возрастных категориях. Банку может потребоваться пересмотреть свой целевой рынок или пересмотреть стратегию удержания клиентов между разными возрастными группами.\n",
    "* Что касается срока владения, то клиенты, находящиеся на крайнем конце (мало времени проводившие с банком или много времени в банке), с большей вероятностью уйдут, чем те, которые имеют средний срок.\n",
    "* Банк теряет клиентов со значительными остатками на банковских счетах, что может снизить их доступный капитал для кредитования.\n",
    "* Ни продукт, ни зарплата не оказывают существенного влияния на вероятность оттока."
   ]
  },
  {
   "cell_type": "markdown",
   "metadata": {},
   "source": [
    "В целом к разведочному анализу данных можно также отнести **построение базового решения**. Важно делать на самом первом этапе, чтобы на пальцах прикидывать, а сколько можно сэкономить денег."
   ]
  },
  {
   "cell_type": "markdown",
   "metadata": {},
   "source": [
    "**Например:**\n",
    "Скажем, чтобы привлечь клиента мы тратим 100 000р, а зарабатываем в год на каждом 200 000р."
   ]
  },
  {
   "cell_type": "code",
   "execution_count": null,
   "metadata": {},
   "outputs": [],
   "source": [
    "from sklearn.metrics import confusion_matrix"
   ]
  },
  {
   "cell_type": "code",
   "execution_count": null,
   "metadata": {},
   "outputs": [],
   "source": [
    "#возьмем случайную подвыборку из train и оценим на ней сколько мы экономим\n",
    "val_sample = train.sample(frac=0.2, random_state=42).reset_index(drop=True)"
   ]
  },
  {
   "cell_type": "code",
   "execution_count": null,
   "metadata": {},
   "outputs": [],
   "source": [
    "val_sample.Exited.value_counts()"
   ]
  },
  {
   "cell_type": "markdown",
   "metadata": {},
   "source": [
    "Всего видим, что ушло 295 клиентов. \n",
    "Получается мы потеряли 295 000 000р!\n",
    "\n",
    "Есть ли что-то, что мы могли с этим сделать?"
   ]
  },
  {
   "cell_type": "markdown",
   "metadata": {},
   "source": [
    "Давайте посчитаем экономию, при предскзаании алгоритмом, который случайно возвращает 0 или 1, то есть с вероятностью 0.5 говорит, что клиент оттечет и с такой же вероятностью, что клиент не оттечет.\n",
    "\n",
    "Отсюда поймём, а имееют ли смысл вообще акции по привлечению клиентов."
   ]
  },
  {
   "cell_type": "code",
   "execution_count": null,
   "metadata": {},
   "outputs": [],
   "source": [
    "np.random.seed(42)\n",
    "rand_prediction = np.random.randint(2, size=len(val_sample))"
   ]
  },
  {
   "cell_type": "code",
   "execution_count": null,
   "metadata": {},
   "outputs": [],
   "source": [
    "tn, fp, fn, tp = confusion_matrix(val_sample.Exited, rand_prediction).ravel()"
   ]
  },
  {
   "cell_type": "code",
   "execution_count": null,
   "metadata": {},
   "outputs": [],
   "source": [
    "print(f'Удержали уходящих: {tp}')\n",
    "print(f'Удерживали, но они и не собирались уходить: {fp}')\n",
    "print(f'Не стали удерживать и они ушли: {fn}')\n",
    "print(f'Правильно не стали удерживать: {tn}')"
   ]
  },
  {
   "cell_type": "markdown",
   "metadata": {},
   "source": [
    "Посчитаем сколько мы потратили всего на привлечение:\n",
    "(145 + 575) * 100 000 =  72 000 000\n",
    "\n",
    "А сколько потеряли на тех, кто ушел:\n",
    "150 000 000"
   ]
  },
  {
   "cell_type": "markdown",
   "metadata": {},
   "source": [
    "Количество денег ушедших из банка **ничего не делали: 295 000 000**\\\n",
    "Количество денег ушедших из банка **простейшей модели: 150 000 000**\n",
    "\n",
    "**Удержано денег в банке: 145 000 000**\\\n",
    "**При расходах: 72 000 000**"
   ]
  },
  {
   "cell_type": "markdown",
   "metadata": {},
   "source": [
    "Ого и это мы даже машинное обучение еще не начали использовать! И взяли только 20% от всей выборки."
   ]
  },
  {
   "cell_type": "markdown",
   "metadata": {},
   "source": [
    "На этом наш разведочный анализ можно закончить - мы узнали все, что нас интересует."
   ]
  },
  {
   "cell_type": "markdown",
   "metadata": {},
   "source": [
    "   - [x] Выборка данных\n",
    "   - [x] Разведочный анализ данных\n",
    "   - [ ] Очистка данных на основе анализа\n",
    "   - [ ] Генерация вспомогательных данных\n",
    "   - [ ] Предобработка данных"
   ]
  },
  {
   "cell_type": "markdown",
   "metadata": {},
   "source": [
    "# Домашнее задание"
   ]
  },
  {
   "cell_type": "markdown",
   "metadata": {},
   "source": [
    "##### С помощью этого метода можно делать посылки боту с предскзаниями, а он будет возвращать результат."
   ]
  },
  {
   "cell_type": "code",
   "execution_count": 11,
   "metadata": {},
   "outputs": [
    {
     "name": "stdout",
     "output_type": "stream",
     "text": [
      "Я умею оценивать качество на тесте. Метрика, которую я измеряю ROC-AUC.Тут можно отправлять сделанные предсказания. Чтобы я не запутался куда какие предсказания, давай будем присылать в виде датафрейма у которого первая колонка 'RowNumber', а вторая 'predict'. Пример посылки попробуем, когда отправим submission.\n"
     ]
    }
   ],
   "source": [
    "BotProductStar.production_quality()"
   ]
  },
  {
   "cell_type": "markdown",
   "metadata": {},
   "source": [
    "Это тестовый пример посылки, вам нужно будет точно также предсказывать вероятность для каждого наблюдения и делать посылки, отправляя их боту."
   ]
  },
  {
   "cell_type": "code",
   "execution_count": null,
   "metadata": {},
   "outputs": [],
   "source": [
    "test = pd.read_csv('./data/test.csv')"
   ]
  },
  {
   "cell_type": "code",
   "execution_count": null,
   "metadata": {},
   "outputs": [],
   "source": [
    "submission = test[['RowNumber']].copy()\n",
    "baseline = [0.5]*len(test)\n",
    "submission['predict'] = baseline"
   ]
  },
  {
   "cell_type": "code",
   "execution_count": null,
   "metadata": {
    "scrolled": true
   },
   "outputs": [],
   "source": [
    "submission.head()"
   ]
  },
  {
   "cell_type": "code",
   "execution_count": null,
   "metadata": {},
   "outputs": [],
   "source": [
    "BotProductStar.production_quality(answer=submission)"
   ]
  },
  {
   "cell_type": "code",
   "execution_count": 12,
   "metadata": {},
   "outputs": [
    {
     "data": {
      "text/html": [
       "<div>\n",
       "<style scoped>\n",
       "    .dataframe tbody tr th:only-of-type {\n",
       "        vertical-align: middle;\n",
       "    }\n",
       "\n",
       "    .dataframe tbody tr th {\n",
       "        vertical-align: top;\n",
       "    }\n",
       "\n",
       "    .dataframe thead th {\n",
       "        text-align: right;\n",
       "    }\n",
       "</style>\n",
       "<table border=\"1\" class=\"dataframe\">\n",
       "  <thead>\n",
       "    <tr style=\"text-align: right;\">\n",
       "      <th></th>\n",
       "      <th>RowNumber</th>\n",
       "      <th>CustomerId</th>\n",
       "      <th>Surname</th>\n",
       "      <th>CreditScore</th>\n",
       "      <th>Geography</th>\n",
       "      <th>Gender</th>\n",
       "      <th>Age</th>\n",
       "      <th>Tenure</th>\n",
       "      <th>Balance</th>\n",
       "      <th>NumOfProducts</th>\n",
       "      <th>HasCrCard</th>\n",
       "      <th>IsActiveMember</th>\n",
       "      <th>EstimatedSalary</th>\n",
       "      <th>Exited</th>\n",
       "    </tr>\n",
       "  </thead>\n",
       "  <tbody>\n",
       "    <tr>\n",
       "      <th>0</th>\n",
       "      <td>8160</td>\n",
       "      <td>15637427</td>\n",
       "      <td>Lu</td>\n",
       "      <td>461</td>\n",
       "      <td>Spain</td>\n",
       "      <td>Female</td>\n",
       "      <td>25</td>\n",
       "      <td>6</td>\n",
       "      <td>0.00</td>\n",
       "      <td>2</td>\n",
       "      <td>1</td>\n",
       "      <td>1</td>\n",
       "      <td>15306.29</td>\n",
       "      <td>0</td>\n",
       "    </tr>\n",
       "    <tr>\n",
       "      <th>1</th>\n",
       "      <td>6333</td>\n",
       "      <td>15793046</td>\n",
       "      <td>Holden</td>\n",
       "      <td>619</td>\n",
       "      <td>France</td>\n",
       "      <td>Female</td>\n",
       "      <td>35</td>\n",
       "      <td>4</td>\n",
       "      <td>90413.12</td>\n",
       "      <td>1</td>\n",
       "      <td>1</td>\n",
       "      <td>1</td>\n",
       "      <td>20555.21</td>\n",
       "      <td>0</td>\n",
       "    </tr>\n",
       "    <tr>\n",
       "      <th>2</th>\n",
       "      <td>8896</td>\n",
       "      <td>15658972</td>\n",
       "      <td>Foster</td>\n",
       "      <td>699</td>\n",
       "      <td>France</td>\n",
       "      <td>Female</td>\n",
       "      <td>40</td>\n",
       "      <td>8</td>\n",
       "      <td>122038.34</td>\n",
       "      <td>1</td>\n",
       "      <td>1</td>\n",
       "      <td>0</td>\n",
       "      <td>102085.35</td>\n",
       "      <td>0</td>\n",
       "    </tr>\n",
       "    <tr>\n",
       "      <th>3</th>\n",
       "      <td>5352</td>\n",
       "      <td>15679048</td>\n",
       "      <td>Koger</td>\n",
       "      <td>558</td>\n",
       "      <td>Germany</td>\n",
       "      <td>Male</td>\n",
       "      <td>41</td>\n",
       "      <td>2</td>\n",
       "      <td>124227.14</td>\n",
       "      <td>1</td>\n",
       "      <td>1</td>\n",
       "      <td>1</td>\n",
       "      <td>111184.67</td>\n",
       "      <td>0</td>\n",
       "    </tr>\n",
       "  </tbody>\n",
       "</table>\n",
       "</div>"
      ],
      "text/plain": [
       "   RowNumber  CustomerId Surname  CreditScore Geography  Gender  Age  Tenure  \\\n",
       "0       8160    15637427      Lu          461     Spain  Female   25       6   \n",
       "1       6333    15793046  Holden          619    France  Female   35       4   \n",
       "2       8896    15658972  Foster          699    France  Female   40       8   \n",
       "3       5352    15679048   Koger          558   Germany    Male   41       2   \n",
       "\n",
       "     Balance  NumOfProducts  HasCrCard  IsActiveMember  EstimatedSalary  \\\n",
       "0       0.00              2          1               1         15306.29   \n",
       "1   90413.12              1          1               1         20555.21   \n",
       "2  122038.34              1          1               0        102085.35   \n",
       "3  124227.14              1          1               1        111184.67   \n",
       "\n",
       "   Exited  \n",
       "0       0  \n",
       "1       0  \n",
       "2       0  \n",
       "3       0  "
      ]
     },
     "execution_count": 12,
     "metadata": {},
     "output_type": "execute_result"
    }
   ],
   "source": [
    "train.head(n=4)\n",
    "#len(train)"
   ]
  },
  {
   "cell_type": "code",
   "execution_count": 13,
   "metadata": {},
   "outputs": [
    {
     "data": {
      "text/plain": [
       "800"
      ]
     },
     "execution_count": 13,
     "metadata": {},
     "output_type": "execute_result"
    }
   ],
   "source": [
    "test.head(n=4)\n",
    "len(test)"
   ]
  },
  {
   "cell_type": "code",
   "execution_count": 14,
   "metadata": {},
   "outputs": [
    {
     "data": {
      "text/html": [
       "<div>\n",
       "<style scoped>\n",
       "    .dataframe tbody tr th:only-of-type {\n",
       "        vertical-align: middle;\n",
       "    }\n",
       "\n",
       "    .dataframe tbody tr th {\n",
       "        vertical-align: top;\n",
       "    }\n",
       "\n",
       "    .dataframe thead th {\n",
       "        text-align: right;\n",
       "    }\n",
       "</style>\n",
       "<table border=\"1\" class=\"dataframe\">\n",
       "  <thead>\n",
       "    <tr style=\"text-align: right;\">\n",
       "      <th></th>\n",
       "      <th>RowNumber</th>\n",
       "      <th>CustomerId</th>\n",
       "      <th>Surname</th>\n",
       "      <th>CreditScore</th>\n",
       "      <th>Geography</th>\n",
       "      <th>Gender</th>\n",
       "      <th>Age</th>\n",
       "      <th>Tenure</th>\n",
       "      <th>Balance</th>\n",
       "      <th>NumOfProducts</th>\n",
       "      <th>HasCrCard</th>\n",
       "      <th>IsActiveMember</th>\n",
       "      <th>EstimatedSalary</th>\n",
       "      <th>Exited</th>\n",
       "    </tr>\n",
       "  </thead>\n",
       "  <tbody>\n",
       "    <tr>\n",
       "      <th>0</th>\n",
       "      <td>8160</td>\n",
       "      <td>15637427</td>\n",
       "      <td>Lu</td>\n",
       "      <td>461</td>\n",
       "      <td>Spain</td>\n",
       "      <td>Female</td>\n",
       "      <td>25</td>\n",
       "      <td>6</td>\n",
       "      <td>0.00</td>\n",
       "      <td>2</td>\n",
       "      <td>1</td>\n",
       "      <td>1</td>\n",
       "      <td>15306.29</td>\n",
       "      <td>0</td>\n",
       "    </tr>\n",
       "    <tr>\n",
       "      <th>1</th>\n",
       "      <td>6333</td>\n",
       "      <td>15793046</td>\n",
       "      <td>Holden</td>\n",
       "      <td>619</td>\n",
       "      <td>France</td>\n",
       "      <td>Female</td>\n",
       "      <td>35</td>\n",
       "      <td>4</td>\n",
       "      <td>90413.12</td>\n",
       "      <td>1</td>\n",
       "      <td>1</td>\n",
       "      <td>1</td>\n",
       "      <td>20555.21</td>\n",
       "      <td>0</td>\n",
       "    </tr>\n",
       "    <tr>\n",
       "      <th>2</th>\n",
       "      <td>8896</td>\n",
       "      <td>15658972</td>\n",
       "      <td>Foster</td>\n",
       "      <td>699</td>\n",
       "      <td>France</td>\n",
       "      <td>Female</td>\n",
       "      <td>40</td>\n",
       "      <td>8</td>\n",
       "      <td>122038.34</td>\n",
       "      <td>1</td>\n",
       "      <td>1</td>\n",
       "      <td>0</td>\n",
       "      <td>102085.35</td>\n",
       "      <td>0</td>\n",
       "    </tr>\n",
       "    <tr>\n",
       "      <th>3</th>\n",
       "      <td>5352</td>\n",
       "      <td>15679048</td>\n",
       "      <td>Koger</td>\n",
       "      <td>558</td>\n",
       "      <td>Germany</td>\n",
       "      <td>Male</td>\n",
       "      <td>41</td>\n",
       "      <td>2</td>\n",
       "      <td>124227.14</td>\n",
       "      <td>1</td>\n",
       "      <td>1</td>\n",
       "      <td>1</td>\n",
       "      <td>111184.67</td>\n",
       "      <td>0</td>\n",
       "    </tr>\n",
       "    <tr>\n",
       "      <th>4</th>\n",
       "      <td>4315</td>\n",
       "      <td>15582276</td>\n",
       "      <td>Greco</td>\n",
       "      <td>638</td>\n",
       "      <td>France</td>\n",
       "      <td>Male</td>\n",
       "      <td>34</td>\n",
       "      <td>5</td>\n",
       "      <td>133501.36</td>\n",
       "      <td>1</td>\n",
       "      <td>0</td>\n",
       "      <td>1</td>\n",
       "      <td>155643.04</td>\n",
       "      <td>0</td>\n",
       "    </tr>\n",
       "  </tbody>\n",
       "</table>\n",
       "</div>"
      ],
      "text/plain": [
       "   RowNumber  CustomerId Surname  CreditScore Geography  Gender  Age  Tenure  \\\n",
       "0       8160    15637427      Lu          461     Spain  Female   25       6   \n",
       "1       6333    15793046  Holden          619    France  Female   35       4   \n",
       "2       8896    15658972  Foster          699    France  Female   40       8   \n",
       "3       5352    15679048   Koger          558   Germany    Male   41       2   \n",
       "4       4315    15582276   Greco          638    France    Male   34       5   \n",
       "\n",
       "     Balance  NumOfProducts  HasCrCard  IsActiveMember  EstimatedSalary  \\\n",
       "0       0.00              2          1               1         15306.29   \n",
       "1   90413.12              1          1               1         20555.21   \n",
       "2  122038.34              1          1               0        102085.35   \n",
       "3  124227.14              1          1               1        111184.67   \n",
       "4  133501.36              1          0               1        155643.04   \n",
       "\n",
       "   Exited  \n",
       "0       0  \n",
       "1       0  \n",
       "2       0  \n",
       "3       0  \n",
       "4       0  "
      ]
     },
     "execution_count": 14,
     "metadata": {},
     "output_type": "execute_result"
    }
   ],
   "source": [
    "train2=train.copy()\n",
    "train2.head(n=5)"
   ]
  },
  {
   "cell_type": "code",
   "execution_count": 15,
   "metadata": {},
   "outputs": [],
   "source": [
    "train2=train.drop([\"Surname\"],  axis=1)"
   ]
  },
  {
   "cell_type": "code",
   "execution_count": 16,
   "metadata": {},
   "outputs": [
    {
     "data": {
      "text/html": [
       "<div>\n",
       "<style scoped>\n",
       "    .dataframe tbody tr th:only-of-type {\n",
       "        vertical-align: middle;\n",
       "    }\n",
       "\n",
       "    .dataframe tbody tr th {\n",
       "        vertical-align: top;\n",
       "    }\n",
       "\n",
       "    .dataframe thead th {\n",
       "        text-align: right;\n",
       "    }\n",
       "</style>\n",
       "<table border=\"1\" class=\"dataframe\">\n",
       "  <thead>\n",
       "    <tr style=\"text-align: right;\">\n",
       "      <th></th>\n",
       "      <th>RowNumber</th>\n",
       "      <th>CustomerId</th>\n",
       "      <th>CreditScore</th>\n",
       "      <th>Geography</th>\n",
       "      <th>Gender</th>\n",
       "      <th>Age</th>\n",
       "      <th>Tenure</th>\n",
       "      <th>Balance</th>\n",
       "      <th>NumOfProducts</th>\n",
       "      <th>HasCrCard</th>\n",
       "      <th>IsActiveMember</th>\n",
       "      <th>EstimatedSalary</th>\n",
       "      <th>Exited</th>\n",
       "    </tr>\n",
       "  </thead>\n",
       "  <tbody>\n",
       "    <tr>\n",
       "      <th>0</th>\n",
       "      <td>8160</td>\n",
       "      <td>15637427</td>\n",
       "      <td>461</td>\n",
       "      <td>Spain</td>\n",
       "      <td>Female</td>\n",
       "      <td>25</td>\n",
       "      <td>6</td>\n",
       "      <td>0.00</td>\n",
       "      <td>2</td>\n",
       "      <td>1</td>\n",
       "      <td>1</td>\n",
       "      <td>15306.29</td>\n",
       "      <td>0</td>\n",
       "    </tr>\n",
       "    <tr>\n",
       "      <th>1</th>\n",
       "      <td>6333</td>\n",
       "      <td>15793046</td>\n",
       "      <td>619</td>\n",
       "      <td>France</td>\n",
       "      <td>Female</td>\n",
       "      <td>35</td>\n",
       "      <td>4</td>\n",
       "      <td>90413.12</td>\n",
       "      <td>1</td>\n",
       "      <td>1</td>\n",
       "      <td>1</td>\n",
       "      <td>20555.21</td>\n",
       "      <td>0</td>\n",
       "    </tr>\n",
       "    <tr>\n",
       "      <th>2</th>\n",
       "      <td>8896</td>\n",
       "      <td>15658972</td>\n",
       "      <td>699</td>\n",
       "      <td>France</td>\n",
       "      <td>Female</td>\n",
       "      <td>40</td>\n",
       "      <td>8</td>\n",
       "      <td>122038.34</td>\n",
       "      <td>1</td>\n",
       "      <td>1</td>\n",
       "      <td>0</td>\n",
       "      <td>102085.35</td>\n",
       "      <td>0</td>\n",
       "    </tr>\n",
       "    <tr>\n",
       "      <th>3</th>\n",
       "      <td>5352</td>\n",
       "      <td>15679048</td>\n",
       "      <td>558</td>\n",
       "      <td>Germany</td>\n",
       "      <td>Male</td>\n",
       "      <td>41</td>\n",
       "      <td>2</td>\n",
       "      <td>124227.14</td>\n",
       "      <td>1</td>\n",
       "      <td>1</td>\n",
       "      <td>1</td>\n",
       "      <td>111184.67</td>\n",
       "      <td>0</td>\n",
       "    </tr>\n",
       "    <tr>\n",
       "      <th>4</th>\n",
       "      <td>4315</td>\n",
       "      <td>15582276</td>\n",
       "      <td>638</td>\n",
       "      <td>France</td>\n",
       "      <td>Male</td>\n",
       "      <td>34</td>\n",
       "      <td>5</td>\n",
       "      <td>133501.36</td>\n",
       "      <td>1</td>\n",
       "      <td>0</td>\n",
       "      <td>1</td>\n",
       "      <td>155643.04</td>\n",
       "      <td>0</td>\n",
       "    </tr>\n",
       "  </tbody>\n",
       "</table>\n",
       "</div>"
      ],
      "text/plain": [
       "   RowNumber  CustomerId  CreditScore Geography  Gender  Age  Tenure  \\\n",
       "0       8160    15637427          461     Spain  Female   25       6   \n",
       "1       6333    15793046          619    France  Female   35       4   \n",
       "2       8896    15658972          699    France  Female   40       8   \n",
       "3       5352    15679048          558   Germany    Male   41       2   \n",
       "4       4315    15582276          638    France    Male   34       5   \n",
       "\n",
       "     Balance  NumOfProducts  HasCrCard  IsActiveMember  EstimatedSalary  \\\n",
       "0       0.00              2          1               1         15306.29   \n",
       "1   90413.12              1          1               1         20555.21   \n",
       "2  122038.34              1          1               0        102085.35   \n",
       "3  124227.14              1          1               1        111184.67   \n",
       "4  133501.36              1          0               1        155643.04   \n",
       "\n",
       "   Exited  \n",
       "0       0  \n",
       "1       0  \n",
       "2       0  \n",
       "3       0  \n",
       "4       0  "
      ]
     },
     "execution_count": 16,
     "metadata": {},
     "output_type": "execute_result"
    }
   ],
   "source": [
    "train2.head(n=5)"
   ]
  },
  {
   "cell_type": "code",
   "execution_count": 15,
   "metadata": {},
   "outputs": [
    {
     "name": "stdout",
     "output_type": "stream",
     "text": [
      "---- Geography ---\n",
      "France     3617\n",
      "Germany    1796\n",
      "Spain      1787\n",
      "Name: Geography, dtype: int64\n",
      "---- Gender ---\n",
      "Male      3921\n",
      "Female    3279\n",
      "Name: Gender, dtype: int64\n",
      "Wall time: 8 ms\n"
     ]
    }
   ],
   "source": [
    "%%time\n",
    "for c in train2.dtypes[train2.dtypes == object].keys():\n",
    "    print (\"---- %s ---\" % c)\n",
    "    print (train2[c].value_counts())"
   ]
  },
  {
   "cell_type": "code",
   "execution_count": 17,
   "metadata": {},
   "outputs": [],
   "source": [
    "cat_features = ['Geography', 'Gender']"
   ]
  },
  {
   "cell_type": "code",
   "execution_count": 18,
   "metadata": {},
   "outputs": [],
   "source": [
    "from sklearn.preprocessing import OrdinalEncoder"
   ]
  },
  {
   "cell_type": "code",
   "execution_count": 19,
   "metadata": {},
   "outputs": [],
   "source": [
    "enc = OrdinalEncoder()"
   ]
  },
  {
   "cell_type": "code",
   "execution_count": 20,
   "metadata": {},
   "outputs": [
    {
     "ename": "TypeError",
     "evalue": "ufunc 'isnan' not supported for the input types, and the inputs could not be safely coerced to any supported types according to the casting rule ''safe''",
     "output_type": "error",
     "traceback": [
      "\u001b[1;31m---------------------------------------------------------------------------\u001b[0m",
      "\u001b[1;31mTypeError\u001b[0m                                 Traceback (most recent call last)",
      "\u001b[1;32m~\\AppData\\Local\\Temp/ipykernel_18264/4223267708.py\u001b[0m in \u001b[0;36m<module>\u001b[1;34m\u001b[0m\n\u001b[0;32m      1\u001b[0m \u001b[0mtrain2\u001b[0m\u001b[1;33m[\u001b[0m\u001b[0mcat_features\u001b[0m\u001b[1;33m]\u001b[0m \u001b[1;33m=\u001b[0m \u001b[0menc\u001b[0m\u001b[1;33m.\u001b[0m\u001b[0mfit_transform\u001b[0m\u001b[1;33m(\u001b[0m\u001b[0mtrain2\u001b[0m\u001b[1;33m[\u001b[0m\u001b[0mcat_features\u001b[0m\u001b[1;33m]\u001b[0m\u001b[1;33m)\u001b[0m\u001b[1;33m\u001b[0m\u001b[1;33m\u001b[0m\u001b[0m\n\u001b[1;32m----> 2\u001b[1;33m \u001b[0mtrain2\u001b[0m\u001b[1;33m[\u001b[0m\u001b[0mcat_features\u001b[0m\u001b[1;33m]\u001b[0m \u001b[1;33m=\u001b[0m \u001b[0menc\u001b[0m\u001b[1;33m.\u001b[0m\u001b[0mtransform\u001b[0m\u001b[1;33m(\u001b[0m\u001b[0mtrain2\u001b[0m\u001b[1;33m[\u001b[0m\u001b[0mcat_features\u001b[0m\u001b[1;33m]\u001b[0m\u001b[1;33m)\u001b[0m\u001b[1;33m\u001b[0m\u001b[1;33m\u001b[0m\u001b[0m\n\u001b[0m",
      "\u001b[1;32mc:\\users\\olegi\\appdata\\local\\programs\\python\\python38\\lib\\site-packages\\sklearn\\preprocessing\\_encoders.py\u001b[0m in \u001b[0;36mtransform\u001b[1;34m(self, X)\u001b[0m\n\u001b[0;32m    928\u001b[0m             \u001b[0mTransformed\u001b[0m \u001b[0minput\u001b[0m\u001b[1;33m.\u001b[0m\u001b[1;33m\u001b[0m\u001b[1;33m\u001b[0m\u001b[0m\n\u001b[0;32m    929\u001b[0m         \"\"\"\n\u001b[1;32m--> 930\u001b[1;33m         X_int, X_mask = self._transform(\n\u001b[0m\u001b[0;32m    931\u001b[0m             \u001b[0mX\u001b[0m\u001b[1;33m,\u001b[0m \u001b[0mhandle_unknown\u001b[0m\u001b[1;33m=\u001b[0m\u001b[0mself\u001b[0m\u001b[1;33m.\u001b[0m\u001b[0mhandle_unknown\u001b[0m\u001b[1;33m,\u001b[0m \u001b[0mforce_all_finite\u001b[0m\u001b[1;33m=\u001b[0m\u001b[1;34m\"allow-nan\"\u001b[0m\u001b[1;33m\u001b[0m\u001b[1;33m\u001b[0m\u001b[0m\n\u001b[0;32m    932\u001b[0m         )\n",
      "\u001b[1;32mc:\\users\\olegi\\appdata\\local\\programs\\python\\python38\\lib\\site-packages\\sklearn\\preprocessing\\_encoders.py\u001b[0m in \u001b[0;36m_transform\u001b[1;34m(self, X, handle_unknown, force_all_finite, warn_on_unknown)\u001b[0m\n\u001b[0;32m    132\u001b[0m         \u001b[1;32mfor\u001b[0m \u001b[0mi\u001b[0m \u001b[1;32min\u001b[0m \u001b[0mrange\u001b[0m\u001b[1;33m(\u001b[0m\u001b[0mn_features\u001b[0m\u001b[1;33m)\u001b[0m\u001b[1;33m:\u001b[0m\u001b[1;33m\u001b[0m\u001b[1;33m\u001b[0m\u001b[0m\n\u001b[0;32m    133\u001b[0m             \u001b[0mXi\u001b[0m \u001b[1;33m=\u001b[0m \u001b[0mX_list\u001b[0m\u001b[1;33m[\u001b[0m\u001b[0mi\u001b[0m\u001b[1;33m]\u001b[0m\u001b[1;33m\u001b[0m\u001b[1;33m\u001b[0m\u001b[0m\n\u001b[1;32m--> 134\u001b[1;33m             \u001b[0mdiff\u001b[0m\u001b[1;33m,\u001b[0m \u001b[0mvalid_mask\u001b[0m \u001b[1;33m=\u001b[0m \u001b[0m_check_unknown\u001b[0m\u001b[1;33m(\u001b[0m\u001b[0mXi\u001b[0m\u001b[1;33m,\u001b[0m \u001b[0mself\u001b[0m\u001b[1;33m.\u001b[0m\u001b[0mcategories_\u001b[0m\u001b[1;33m[\u001b[0m\u001b[0mi\u001b[0m\u001b[1;33m]\u001b[0m\u001b[1;33m,\u001b[0m \u001b[0mreturn_mask\u001b[0m\u001b[1;33m=\u001b[0m\u001b[1;32mTrue\u001b[0m\u001b[1;33m)\u001b[0m\u001b[1;33m\u001b[0m\u001b[1;33m\u001b[0m\u001b[0m\n\u001b[0m\u001b[0;32m    135\u001b[0m \u001b[1;33m\u001b[0m\u001b[0m\n\u001b[0;32m    136\u001b[0m             \u001b[1;32mif\u001b[0m \u001b[1;32mnot\u001b[0m \u001b[0mnp\u001b[0m\u001b[1;33m.\u001b[0m\u001b[0mall\u001b[0m\u001b[1;33m(\u001b[0m\u001b[0mvalid_mask\u001b[0m\u001b[1;33m)\u001b[0m\u001b[1;33m:\u001b[0m\u001b[1;33m\u001b[0m\u001b[1;33m\u001b[0m\u001b[0m\n",
      "\u001b[1;32mc:\\users\\olegi\\appdata\\local\\programs\\python\\python38\\lib\\site-packages\\sklearn\\utils\\_encode.py\u001b[0m in \u001b[0;36m_check_unknown\u001b[1;34m(values, known_values, return_mask)\u001b[0m\n\u001b[0;32m    259\u001b[0m \u001b[1;33m\u001b[0m\u001b[0m\n\u001b[0;32m    260\u001b[0m         \u001b[1;31m# check for nans in the known_values\u001b[0m\u001b[1;33m\u001b[0m\u001b[1;33m\u001b[0m\u001b[1;33m\u001b[0m\u001b[0m\n\u001b[1;32m--> 261\u001b[1;33m         \u001b[1;32mif\u001b[0m \u001b[0mnp\u001b[0m\u001b[1;33m.\u001b[0m\u001b[0misnan\u001b[0m\u001b[1;33m(\u001b[0m\u001b[0mknown_values\u001b[0m\u001b[1;33m)\u001b[0m\u001b[1;33m.\u001b[0m\u001b[0many\u001b[0m\u001b[1;33m(\u001b[0m\u001b[1;33m)\u001b[0m\u001b[1;33m:\u001b[0m\u001b[1;33m\u001b[0m\u001b[1;33m\u001b[0m\u001b[0m\n\u001b[0m\u001b[0;32m    262\u001b[0m             \u001b[0mdiff_is_nan\u001b[0m \u001b[1;33m=\u001b[0m \u001b[0mnp\u001b[0m\u001b[1;33m.\u001b[0m\u001b[0misnan\u001b[0m\u001b[1;33m(\u001b[0m\u001b[0mdiff\u001b[0m\u001b[1;33m)\u001b[0m\u001b[1;33m\u001b[0m\u001b[1;33m\u001b[0m\u001b[0m\n\u001b[0;32m    263\u001b[0m             \u001b[1;32mif\u001b[0m \u001b[0mdiff_is_nan\u001b[0m\u001b[1;33m.\u001b[0m\u001b[0many\u001b[0m\u001b[1;33m(\u001b[0m\u001b[1;33m)\u001b[0m\u001b[1;33m:\u001b[0m\u001b[1;33m\u001b[0m\u001b[1;33m\u001b[0m\u001b[0m\n",
      "\u001b[1;31mTypeError\u001b[0m: ufunc 'isnan' not supported for the input types, and the inputs could not be safely coerced to any supported types according to the casting rule ''safe''"
     ]
    }
   ],
   "source": [
    "train2[cat_features] = enc.fit_transform(train2[cat_features])\n",
    "train2[cat_features] = enc.transform(train2[cat_features])"
   ]
  },
  {
   "cell_type": "code",
   "execution_count": 21,
   "metadata": {},
   "outputs": [
    {
     "data": {
      "text/html": [
       "<div>\n",
       "<style scoped>\n",
       "    .dataframe tbody tr th:only-of-type {\n",
       "        vertical-align: middle;\n",
       "    }\n",
       "\n",
       "    .dataframe tbody tr th {\n",
       "        vertical-align: top;\n",
       "    }\n",
       "\n",
       "    .dataframe thead th {\n",
       "        text-align: right;\n",
       "    }\n",
       "</style>\n",
       "<table border=\"1\" class=\"dataframe\">\n",
       "  <thead>\n",
       "    <tr style=\"text-align: right;\">\n",
       "      <th></th>\n",
       "      <th>Geography</th>\n",
       "      <th>Gender</th>\n",
       "    </tr>\n",
       "  </thead>\n",
       "  <tbody>\n",
       "    <tr>\n",
       "      <th>0</th>\n",
       "      <td>2.0</td>\n",
       "      <td>0.0</td>\n",
       "    </tr>\n",
       "    <tr>\n",
       "      <th>1</th>\n",
       "      <td>0.0</td>\n",
       "      <td>0.0</td>\n",
       "    </tr>\n",
       "    <tr>\n",
       "      <th>2</th>\n",
       "      <td>0.0</td>\n",
       "      <td>0.0</td>\n",
       "    </tr>\n",
       "    <tr>\n",
       "      <th>3</th>\n",
       "      <td>1.0</td>\n",
       "      <td>1.0</td>\n",
       "    </tr>\n",
       "    <tr>\n",
       "      <th>4</th>\n",
       "      <td>0.0</td>\n",
       "      <td>1.0</td>\n",
       "    </tr>\n",
       "  </tbody>\n",
       "</table>\n",
       "</div>"
      ],
      "text/plain": [
       "   Geography  Gender\n",
       "0        2.0     0.0\n",
       "1        0.0     0.0\n",
       "2        0.0     0.0\n",
       "3        1.0     1.0\n",
       "4        0.0     1.0"
      ]
     },
     "execution_count": 21,
     "metadata": {},
     "output_type": "execute_result"
    }
   ],
   "source": [
    "train2[cat_features].head()"
   ]
  },
  {
   "cell_type": "code",
   "execution_count": 31,
   "metadata": {},
   "outputs": [
    {
     "data": {
      "text/html": [
       "<div>\n",
       "<style scoped>\n",
       "    .dataframe tbody tr th:only-of-type {\n",
       "        vertical-align: middle;\n",
       "    }\n",
       "\n",
       "    .dataframe tbody tr th {\n",
       "        vertical-align: top;\n",
       "    }\n",
       "\n",
       "    .dataframe thead th {\n",
       "        text-align: right;\n",
       "    }\n",
       "</style>\n",
       "<table border=\"1\" class=\"dataframe\">\n",
       "  <thead>\n",
       "    <tr style=\"text-align: right;\">\n",
       "      <th></th>\n",
       "      <th>RowNumber</th>\n",
       "      <th>CustomerId</th>\n",
       "      <th>CreditScore</th>\n",
       "      <th>Geography</th>\n",
       "      <th>Gender</th>\n",
       "      <th>Age</th>\n",
       "      <th>Tenure</th>\n",
       "      <th>Balance</th>\n",
       "      <th>NumOfProducts</th>\n",
       "      <th>HasCrCard</th>\n",
       "      <th>IsActiveMember</th>\n",
       "      <th>EstimatedSalary</th>\n",
       "      <th>Exited</th>\n",
       "    </tr>\n",
       "  </thead>\n",
       "  <tbody>\n",
       "    <tr>\n",
       "      <th>0</th>\n",
       "      <td>8160</td>\n",
       "      <td>15637427</td>\n",
       "      <td>461</td>\n",
       "      <td>2.0</td>\n",
       "      <td>0.0</td>\n",
       "      <td>25</td>\n",
       "      <td>6</td>\n",
       "      <td>0.00</td>\n",
       "      <td>2</td>\n",
       "      <td>1</td>\n",
       "      <td>1</td>\n",
       "      <td>15306.29</td>\n",
       "      <td>0</td>\n",
       "    </tr>\n",
       "    <tr>\n",
       "      <th>1</th>\n",
       "      <td>6333</td>\n",
       "      <td>15793046</td>\n",
       "      <td>619</td>\n",
       "      <td>0.0</td>\n",
       "      <td>0.0</td>\n",
       "      <td>35</td>\n",
       "      <td>4</td>\n",
       "      <td>90413.12</td>\n",
       "      <td>1</td>\n",
       "      <td>1</td>\n",
       "      <td>1</td>\n",
       "      <td>20555.21</td>\n",
       "      <td>0</td>\n",
       "    </tr>\n",
       "    <tr>\n",
       "      <th>2</th>\n",
       "      <td>8896</td>\n",
       "      <td>15658972</td>\n",
       "      <td>699</td>\n",
       "      <td>0.0</td>\n",
       "      <td>0.0</td>\n",
       "      <td>40</td>\n",
       "      <td>8</td>\n",
       "      <td>122038.34</td>\n",
       "      <td>1</td>\n",
       "      <td>1</td>\n",
       "      <td>0</td>\n",
       "      <td>102085.35</td>\n",
       "      <td>0</td>\n",
       "    </tr>\n",
       "    <tr>\n",
       "      <th>3</th>\n",
       "      <td>5352</td>\n",
       "      <td>15679048</td>\n",
       "      <td>558</td>\n",
       "      <td>1.0</td>\n",
       "      <td>1.0</td>\n",
       "      <td>41</td>\n",
       "      <td>2</td>\n",
       "      <td>124227.14</td>\n",
       "      <td>1</td>\n",
       "      <td>1</td>\n",
       "      <td>1</td>\n",
       "      <td>111184.67</td>\n",
       "      <td>0</td>\n",
       "    </tr>\n",
       "    <tr>\n",
       "      <th>4</th>\n",
       "      <td>4315</td>\n",
       "      <td>15582276</td>\n",
       "      <td>638</td>\n",
       "      <td>0.0</td>\n",
       "      <td>1.0</td>\n",
       "      <td>34</td>\n",
       "      <td>5</td>\n",
       "      <td>133501.36</td>\n",
       "      <td>1</td>\n",
       "      <td>0</td>\n",
       "      <td>1</td>\n",
       "      <td>155643.04</td>\n",
       "      <td>0</td>\n",
       "    </tr>\n",
       "  </tbody>\n",
       "</table>\n",
       "</div>"
      ],
      "text/plain": [
       "   RowNumber  CustomerId  CreditScore  Geography  Gender  Age  Tenure  \\\n",
       "0       8160    15637427          461        2.0     0.0   25       6   \n",
       "1       6333    15793046          619        0.0     0.0   35       4   \n",
       "2       8896    15658972          699        0.0     0.0   40       8   \n",
       "3       5352    15679048          558        1.0     1.0   41       2   \n",
       "4       4315    15582276          638        0.0     1.0   34       5   \n",
       "\n",
       "     Balance  NumOfProducts  HasCrCard  IsActiveMember  EstimatedSalary  \\\n",
       "0       0.00              2          1               1         15306.29   \n",
       "1   90413.12              1          1               1         20555.21   \n",
       "2  122038.34              1          1               0        102085.35   \n",
       "3  124227.14              1          1               1        111184.67   \n",
       "4  133501.36              1          0               1        155643.04   \n",
       "\n",
       "   Exited  \n",
       "0       0  \n",
       "1       0  \n",
       "2       0  \n",
       "3       0  \n",
       "4       0  "
      ]
     },
     "execution_count": 31,
     "metadata": {},
     "output_type": "execute_result"
    }
   ],
   "source": [
    "train2.head(n=5)"
   ]
  },
  {
   "cell_type": "code",
   "execution_count": 23,
   "metadata": {},
   "outputs": [
    {
     "name": "stdout",
     "output_type": "stream",
     "text": [
      "x_train.shape = 5040 rows, 11 cols\n",
      "x_valid.shape = 2160 rows, 11 cols\n"
     ]
    }
   ],
   "source": [
    "x_train, x_valid = train_test_split(\n",
    "    train2.drop([\"RowNumber\", \"Exited\"], axis=1), train_size=0.7, shuffle=True, random_state=1,\n",
    ")\n",
    "y_train, y_valid = train_test_split(\n",
    "    train2[\"Exited\"], train_size=0.7, shuffle=True, random_state=1,\n",
    ")\n",
    "\n",
    "\n",
    "\n",
    "print(\"x_train.shape = {} rows, {} cols\".format(*x_train.shape))\n",
    "print(\"x_valid.shape = {} rows, {} cols\".format(*x_valid.shape))\n"
   ]
  },
  {
   "cell_type": "code",
   "execution_count": 24,
   "metadata": {},
   "outputs": [
    {
     "data": {
      "text/plain": [
       "Pipeline(steps=[('scaling', StandardScaler()),\n",
       "                ('model', LogisticRegression(random_state=1))])"
      ]
     },
     "execution_count": 24,
     "metadata": {},
     "output_type": "execute_result"
    }
   ],
   "source": [
    "pipeline = Pipeline(\n",
    "    steps=[\n",
    "        (\"scaling\", StandardScaler()),\n",
    "        (\"model\", LogisticRegression(random_state=1))\n",
    "    ]\n",
    ")\n",
    "\n",
    "pipeline.fit(x_train, y_train)"
   ]
  },
  {
   "cell_type": "code",
   "execution_count": 25,
   "metadata": {},
   "outputs": [
    {
     "name": "stdout",
     "output_type": "stream",
     "text": [
      "Train-score: 0.764, Valid-score: 0.749\n"
     ]
    }
   ],
   "source": [
    "train_score = roc_auc_score(y_train, pipeline.predict_proba(x_train)[:, 1])\n",
    "valid_score = roc_auc_score(y_valid, pipeline.predict_proba(x_valid)[:, 1])\n",
    "\n",
    "\n",
    "print(f\"Train-score: {round(train_score, 3)}, Valid-score: {round(valid_score, 3)}\")"
   ]
  },
  {
   "cell_type": "code",
   "execution_count": 33,
   "metadata": {},
   "outputs": [
    {
     "data": {
      "text/plain": [
       "array([0.25961188, 0.16443412, 0.17328491, ..., 0.64528456, 0.11012186,\n",
       "       0.13212779])"
      ]
     },
     "execution_count": 33,
     "metadata": {},
     "output_type": "execute_result"
    }
   ],
   "source": [
    "pipeline.predict_proba(x_train)[:, 1]"
   ]
  },
  {
   "cell_type": "code",
   "execution_count": 26,
   "metadata": {},
   "outputs": [
    {
     "name": "stdout",
     "output_type": "stream",
     "text": [
      "CV-results: 0.7566 +/- 0.022\n"
     ]
    }
   ],
   "source": [
    "kfold = KFold(n_splits=10, shuffle=True, random_state=27)\n",
    "\n",
    "# проводим кросс-валидацию\n",
    "cv = cross_val_score(\n",
    "    estimator=pipeline,\n",
    "    X=train2.drop([\"RowNumber\", \"Exited\"], axis=1),\n",
    "    y=train2[\"Exited\"],\n",
    "    scoring=\"roc_auc\",\n",
    "    cv=kfold\n",
    ")\n",
    "\n",
    "# Считаем среднее значение метрики на каждом фолде и выводим среднее значение\n",
    "print(f\"CV-results: {round(np.mean(cv), 4)} +/- {round(np.std(cv), 3)}\")"
   ]
  },
  {
   "cell_type": "code",
   "execution_count": 27,
   "metadata": {},
   "outputs": [
    {
     "name": "stdout",
     "output_type": "stream",
     "text": [
      "CV-results: 0.7566 +/- 0.022\n"
     ]
    }
   ],
   "source": [
    "skfold = StratifiedKFold(n_splits=5, shuffle=True, random_state=1)\n",
    "\n",
    "# проводим кросс-валидацию\n",
    "cv = cross_val_score(\n",
    "    estimator=pipeline,\n",
    "    X=train2.drop([\"RowNumber\", \"Exited\"], axis=1),\n",
    "    y=train2[\"Exited\"],\n",
    "    scoring=\"roc_auc\",\n",
    "    cv=kfold\n",
    ")\n",
    "\n",
    "# Считаем среднее значение метрики на каждом фолде и выводим среднее значение\n",
    "print(f\"CV-results: {round(np.mean(cv), 4)} +/- {round(np.std(cv), 3)}\")"
   ]
  },
  {
   "cell_type": "code",
   "execution_count": 28,
   "metadata": {},
   "outputs": [],
   "source": [
    "from typing import Tuple\n",
    "\n",
    "import numpy as np\n",
    "import pandas as pd\n",
    "import matplotlib.pyplot as plt\n",
    "\n",
    "from sklearn.metrics import roc_auc_score\n",
    "from sklearn.tree import DecisionTreeRegressor\n",
    "from sklearn.tree import DecisionTreeClassifier\n",
    "from sklearn.model_selection import train_test_split\n",
    "from sklearn.model_selection import validation_curve, learning_curve"
   ]
  },
  {
   "cell_type": "code",
   "execution_count": 29,
   "metadata": {},
   "outputs": [
    {
     "data": {
      "text/plain": [
       "DecisionTreeClassifier(random_state=1)"
      ]
     },
     "execution_count": 29,
     "metadata": {},
     "output_type": "execute_result"
    }
   ],
   "source": [
    "model = DecisionTreeClassifier(random_state=1)\n",
    "model.fit(x_train, y_train)"
   ]
  },
  {
   "cell_type": "code",
   "execution_count": 30,
   "metadata": {},
   "outputs": [
    {
     "name": "stdout",
     "output_type": "stream",
     "text": [
      "Train-score: 1.0, Valid-score: 0.6697\n"
     ]
    }
   ],
   "source": [
    "train_score = roc_auc_score(y_train, model.predict_proba(x_train)[:, 1])\n",
    "valid_score = roc_auc_score(y_valid, model.predict_proba(x_valid)[:, 1])\n",
    "\n",
    "print(f\"Train-score: {round(train_score, 3)}, Valid-score: {round(valid_score, 4)}\")"
   ]
  },
  {
   "cell_type": "code",
   "execution_count": 28,
   "metadata": {},
   "outputs": [
    {
     "data": {
      "text/plain": [
       "DecisionTreeClassifier(random_state=1)"
      ]
     },
     "execution_count": 28,
     "metadata": {},
     "output_type": "execute_result"
    }
   ],
   "source": [
    "model = DecisionTreeClassifier(random_state=1)\n",
    "model.fit(x_train, y_train)"
   ]
  },
  {
   "cell_type": "code",
   "execution_count": 29,
   "metadata": {},
   "outputs": [
    {
     "data": {
      "text/html": [
       "<div>\n",
       "<style scoped>\n",
       "    .dataframe tbody tr th:only-of-type {\n",
       "        vertical-align: middle;\n",
       "    }\n",
       "\n",
       "    .dataframe tbody tr th {\n",
       "        vertical-align: top;\n",
       "    }\n",
       "\n",
       "    .dataframe thead th {\n",
       "        text-align: right;\n",
       "    }\n",
       "</style>\n",
       "<table border=\"1\" class=\"dataframe\">\n",
       "  <thead>\n",
       "    <tr style=\"text-align: right;\">\n",
       "      <th></th>\n",
       "      <th>features</th>\n",
       "      <th>importance</th>\n",
       "    </tr>\n",
       "  </thead>\n",
       "  <tbody>\n",
       "    <tr>\n",
       "      <th>0</th>\n",
       "      <td>Age</td>\n",
       "      <td>0.249132</td>\n",
       "    </tr>\n",
       "    <tr>\n",
       "      <th>1</th>\n",
       "      <td>Balance</td>\n",
       "      <td>0.164853</td>\n",
       "    </tr>\n",
       "    <tr>\n",
       "      <th>2</th>\n",
       "      <td>EstimatedSalary</td>\n",
       "      <td>0.147985</td>\n",
       "    </tr>\n",
       "    <tr>\n",
       "      <th>3</th>\n",
       "      <td>CreditScore</td>\n",
       "      <td>0.128043</td>\n",
       "    </tr>\n",
       "    <tr>\n",
       "      <th>4</th>\n",
       "      <td>NumOfProducts</td>\n",
       "      <td>0.108316</td>\n",
       "    </tr>\n",
       "    <tr>\n",
       "      <th>5</th>\n",
       "      <td>Tenure</td>\n",
       "      <td>0.065036</td>\n",
       "    </tr>\n",
       "    <tr>\n",
       "      <th>6</th>\n",
       "      <td>IsActiveMember</td>\n",
       "      <td>0.059157</td>\n",
       "    </tr>\n",
       "    <tr>\n",
       "      <th>7</th>\n",
       "      <td>Geography</td>\n",
       "      <td>0.040710</td>\n",
       "    </tr>\n",
       "    <tr>\n",
       "      <th>8</th>\n",
       "      <td>HasCrCard</td>\n",
       "      <td>0.019293</td>\n",
       "    </tr>\n",
       "    <tr>\n",
       "      <th>9</th>\n",
       "      <td>Gender</td>\n",
       "      <td>0.017475</td>\n",
       "    </tr>\n",
       "  </tbody>\n",
       "</table>\n",
       "</div>"
      ],
      "text/plain": [
       "          features  importance\n",
       "0              Age    0.249132\n",
       "1          Balance    0.164853\n",
       "2  EstimatedSalary    0.147985\n",
       "3      CreditScore    0.128043\n",
       "4    NumOfProducts    0.108316\n",
       "5           Tenure    0.065036\n",
       "6   IsActiveMember    0.059157\n",
       "7        Geography    0.040710\n",
       "8        HasCrCard    0.019293\n",
       "9           Gender    0.017475"
      ]
     },
     "execution_count": 29,
     "metadata": {},
     "output_type": "execute_result"
    }
   ],
   "source": [
    "importance = pd.DataFrame({\n",
    "    \"features\": x_train.columns,\n",
    "    \"importance\": model.feature_importances_\n",
    "})\n",
    "\n",
    "importance = importance.sort_values(by=\"importance\", ascending=False)\n",
    "importance = importance.reset_index(drop=True)\n",
    "importance.head(n=12)"
   ]
  },
  {
   "cell_type": "code",
   "execution_count": 30,
   "metadata": {},
   "outputs": [],
   "source": [
    "LEFT_BOUND, RIGHT_BOUND = np.percentile(x_train, q=1), np.percentile(x_train, q=99)\n",
    "x_winsorized = np.clip(x_train, LEFT_BOUND, RIGHT_BOUND)\n",
    "assert x_winsorized.shape[0] == x_train.shape[0]"
   ]
  },
  {
   "cell_type": "code",
   "execution_count": 31,
   "metadata": {},
   "outputs": [
    {
     "data": {
      "text/html": [
       "<div>\n",
       "<style scoped>\n",
       "    .dataframe tbody tr th:only-of-type {\n",
       "        vertical-align: middle;\n",
       "    }\n",
       "\n",
       "    .dataframe tbody tr th {\n",
       "        vertical-align: top;\n",
       "    }\n",
       "\n",
       "    .dataframe thead th {\n",
       "        text-align: right;\n",
       "    }\n",
       "</style>\n",
       "<table border=\"1\" class=\"dataframe\">\n",
       "  <thead>\n",
       "    <tr style=\"text-align: right;\">\n",
       "      <th></th>\n",
       "      <th>CreditScore</th>\n",
       "      <th>Geography</th>\n",
       "      <th>Gender</th>\n",
       "      <th>Age</th>\n",
       "      <th>Tenure</th>\n",
       "      <th>Balance</th>\n",
       "      <th>NumOfProducts</th>\n",
       "      <th>HasCrCard</th>\n",
       "      <th>IsActiveMember</th>\n",
       "      <th>EstimatedSalary</th>\n",
       "    </tr>\n",
       "  </thead>\n",
       "  <tbody>\n",
       "    <tr>\n",
       "      <th>4607</th>\n",
       "      <td>584</td>\n",
       "      <td>0.0</td>\n",
       "      <td>0.0</td>\n",
       "      <td>35</td>\n",
       "      <td>2</td>\n",
       "      <td>114321.28</td>\n",
       "      <td>2</td>\n",
       "      <td>0</td>\n",
       "      <td>0</td>\n",
       "      <td>15959.0100</td>\n",
       "    </tr>\n",
       "    <tr>\n",
       "      <th>1437</th>\n",
       "      <td>516</td>\n",
       "      <td>2.0</td>\n",
       "      <td>1.0</td>\n",
       "      <td>50</td>\n",
       "      <td>5</td>\n",
       "      <td>0.00</td>\n",
       "      <td>1</td>\n",
       "      <td>0</td>\n",
       "      <td>1</td>\n",
       "      <td>146145.9300</td>\n",
       "    </tr>\n",
       "    <tr>\n",
       "      <th>4632</th>\n",
       "      <td>700</td>\n",
       "      <td>1.0</td>\n",
       "      <td>0.0</td>\n",
       "      <td>39</td>\n",
       "      <td>5</td>\n",
       "      <td>144550.83</td>\n",
       "      <td>2</td>\n",
       "      <td>1</td>\n",
       "      <td>1</td>\n",
       "      <td>182491.7111</td>\n",
       "    </tr>\n",
       "  </tbody>\n",
       "</table>\n",
       "</div>"
      ],
      "text/plain": [
       "      CreditScore  Geography  Gender  Age  Tenure    Balance  NumOfProducts  \\\n",
       "4607          584        0.0     0.0   35       2  114321.28              2   \n",
       "1437          516        2.0     1.0   50       5       0.00              1   \n",
       "4632          700        1.0     0.0   39       5  144550.83              2   \n",
       "\n",
       "      HasCrCard  IsActiveMember  EstimatedSalary  \n",
       "4607          0               0       15959.0100  \n",
       "1437          0               1      146145.9300  \n",
       "4632          1               1      182491.7111  "
      ]
     },
     "execution_count": 31,
     "metadata": {},
     "output_type": "execute_result"
    }
   ],
   "source": [
    "x_winsorized.head(n=3)"
   ]
  },
  {
   "cell_type": "code",
   "execution_count": 32,
   "metadata": {},
   "outputs": [],
   "source": [
    "def linear_model_fit_transform(X: np.array, y: np.array) -> np.array:\n",
    "    \"\"\"\n",
    "    Обучение и применение линейной модели к набору данных.\n",
    "\n",
    "    Parameters\n",
    "    ----------\n",
    "    X: numpy.array, shape = [n_samples, n_features]\n",
    "        Матрица признаков.\n",
    "\n",
    "    y: numpy.array, shape = [n_samples, ]\n",
    "        Вектор целевой переменной.\n",
    "\n",
    "    Returns\n",
    "    -------\n",
    "    y_pred: numpy.array, shape = [n_samples, ]\n",
    "        Вектор прогнозов.\n",
    "\n",
    "    \"\"\"\n",
    "    model = LinearRegression()\n",
    "    model.fit(X.reshape(X.shape[0], -1), y)\n",
    "    y_pred = model.coef_*X + model.intercept_\n",
    "\n",
    "    return y_pred"
   ]
  },
  {
   "cell_type": "code",
   "execution_count": 33,
   "metadata": {},
   "outputs": [
    {
     "ename": "NameError",
     "evalue": "name 'y' is not defined",
     "output_type": "error",
     "traceback": [
      "\u001b[1;31m---------------------------------------------------------------------------\u001b[0m",
      "\u001b[1;31mNameError\u001b[0m                                 Traceback (most recent call last)",
      "\u001b[1;32m~\\AppData\\Local\\Temp/ipykernel_31556/4078826776.py\u001b[0m in \u001b[0;36m<module>\u001b[1;34m\u001b[0m\n\u001b[1;32m----> 1\u001b[1;33m \u001b[0my_winsorized_pred\u001b[0m \u001b[1;33m=\u001b[0m \u001b[0mlinear_model_fit_transform\u001b[0m\u001b[1;33m(\u001b[0m\u001b[0mx_winsorized\u001b[0m\u001b[1;33m,\u001b[0m \u001b[0my\u001b[0m\u001b[1;33m)\u001b[0m\u001b[1;33m\u001b[0m\u001b[1;33m\u001b[0m\u001b[0m\n\u001b[0m\u001b[0;32m      2\u001b[0m \u001b[1;33m\u001b[0m\u001b[0m\n\u001b[0;32m      3\u001b[0m \u001b[0mfig\u001b[0m \u001b[1;33m=\u001b[0m \u001b[0mplt\u001b[0m\u001b[1;33m.\u001b[0m\u001b[0mfigure\u001b[0m\u001b[1;33m(\u001b[0m\u001b[0mfigsize\u001b[0m\u001b[1;33m=\u001b[0m\u001b[1;33m(\u001b[0m\u001b[1;36m15\u001b[0m\u001b[1;33m,\u001b[0m \u001b[1;36m5\u001b[0m\u001b[1;33m)\u001b[0m\u001b[1;33m)\u001b[0m\u001b[1;33m\u001b[0m\u001b[1;33m\u001b[0m\u001b[0m\n\u001b[0;32m      4\u001b[0m \u001b[0mplt\u001b[0m\u001b[1;33m.\u001b[0m\u001b[0mscatter\u001b[0m\u001b[1;33m(\u001b[0m\u001b[0mx_winsorized\u001b[0m\u001b[1;33m,\u001b[0m \u001b[0my\u001b[0m\u001b[1;33m,\u001b[0m \u001b[0malpha\u001b[0m\u001b[1;33m=\u001b[0m\u001b[1;36m0.25\u001b[0m\u001b[1;33m)\u001b[0m\u001b[1;33m\u001b[0m\u001b[1;33m\u001b[0m\u001b[0m\n\u001b[0;32m      5\u001b[0m \u001b[0mplt\u001b[0m\u001b[1;33m.\u001b[0m\u001b[0mtitle\u001b[0m\u001b[1;33m(\u001b[0m\u001b[1;34m\"Winsorization preprocessing\"\u001b[0m\u001b[1;33m,\u001b[0m \u001b[0msize\u001b[0m\u001b[1;33m=\u001b[0m\u001b[1;36m15\u001b[0m\u001b[1;33m)\u001b[0m\u001b[1;33m\u001b[0m\u001b[1;33m\u001b[0m\u001b[0m\n",
      "\u001b[1;31mNameError\u001b[0m: name 'y' is not defined"
     ]
    }
   ],
   "source": [
    "y_winsorized_pred = linear_model_fit_transform(x_winsorized, y)\n",
    "\n",
    "fig = plt.figure(figsize=(15, 5))\n",
    "plt.scatter(x_winsorized, y, alpha=0.25)\n",
    "plt.title(\"Winsorization preprocessing\", size=15)\n",
    "#plt.plot(x, y_pred, color=\"red\", linewidth=2, linestyle=\"--\", label=\"model without outliers\")\n",
    "plt.plot(x_winsorized, y_winsorized_pred, linewidth=3, color=\"purple\", label=\"model with winsorization\")\n",
    "plt.xlabel(\"feature\", size=14)\n",
    "plt.ylabel(\"target\", size=14)\n",
    "plt.legend(loc=\"best\")"
   ]
  },
  {
   "cell_type": "code",
   "execution_count": 34,
   "metadata": {},
   "outputs": [
    {
     "name": "stdout",
     "output_type": "stream",
     "text": [
      "Train-score: 0.989, Valid-score: 0.6721\n"
     ]
    }
   ],
   "source": [
    "train_score = roc_auc_score(y_train, model.predict_proba(x_winsorized)[:, 1])\n",
    "valid_score = roc_auc_score(y_valid, model.predict_proba(x_valid)[:, 1])\n",
    "\n",
    "print(f\"Train-score: {round(train_score, 3)}, Valid-score: {round(valid_score, 4)}\")"
   ]
  },
  {
   "cell_type": "code",
   "execution_count": 36,
   "metadata": {},
   "outputs": [],
   "source": [
    "def fit_evaluate_model(estimator, x_train, y_train, x_valid, y_valid):\n",
    "    \"\"\"\n",
    "    Функция для обучения и оценки качества модели.\n",
    "\n",
    "    Parameters\n",
    "    ----------\n",
    "    estimator: callable\n",
    "        Объект для обучения и применения модели.\n",
    "\n",
    "    x_train: pandas.DataFrame\n",
    "        Матрица признаков для обучения модели.\n",
    "\n",
    "    y_train: pandas.Series\n",
    "        Вектор целевой переменной для обучения модели.\n",
    "\n",
    "    x_valid: pandas.DataFrame\n",
    "        Матрица признаков для валидации модели.\n",
    "\n",
    "    y_valid: pandas.Series\n",
    "        Вектор целевой переменной для валидации модели.\n",
    "\n",
    "    Returns\n",
    "    -------\n",
    "    y_train_pred: np.array\n",
    "        Вектор прогнозов для обучающей выборки\n",
    "\n",
    "    y_valid_pred: np.array\n",
    "        Вектор прогнозов для валидационной выборки\n",
    "\n",
    "    \"\"\"\n",
    "    estimator.fit(x_train, y_train)\n",
    "    y_train_pred = estimator.predict_proba(x_train)[:, 1]\n",
    "    y_valid_pred = estimator.predict_proba(x_valid)[:, 1]\n",
    "\n",
    "    train_score = roc_auc_score(y_train, y_train_pred)\n",
    "    valid_score = roc_auc_score(y_valid, y_valid_pred)\n",
    "    print(f\"Model Score: train = {round(train_score, 4)}, valid = {round(valid_score, 4)}\")\n",
    "\n",
    "    return y_train_pred, y_valid_pred\n",
    "\n",
    "\n",
    "def plot_validation_curves(train_scores: np.array,\n",
    "                           valid_scores: np.array,\n",
    "                           figsize: Tuple[int, int] = (8, 8)\n",
    "                          ):\n",
    "    \"\"\"\n",
    "    Визуализация процесса настройки гиперпараметра\n",
    "    алгоритма машинного обучения. Визуализируется значение\n",
    "    метрики качества на обучащей и тестовой части данных, на\n",
    "    валидационной части данных и доверительные интервалы.\n",
    "\n",
    "    Parameters\n",
    "    ----------\n",
    "    train_scores: np.array\n",
    "        Значения метрики качества на обучающей выборке.\n",
    "\n",
    "    valid_scores: np.array\n",
    "        Значения метрики качества на валидационной выборке.\n",
    "\n",
    "    \"\"\"\n",
    "    fig = plt.figure(figsize=figsize)\n",
    "\n",
    "    #plt.subplot(121)\n",
    "    plt.title(\"Validation Curves\", size=15)\n",
    "    plt.plot(\n",
    "        range(train_scores.shape[0]),\n",
    "        np.mean(train_scores, axis=1),\n",
    "        label=\"train\",\n",
    "        linewidth=3,\n",
    "        marker=\"s\"\n",
    "    )\n",
    "    plt.fill_between(\n",
    "        x=range(train_scores.shape[0]),\n",
    "        y1=np.mean(train_scores, axis=1)-np.std(train_scores, axis=1),\n",
    "        y2=np.mean(train_scores, axis=1)+np.std(train_scores, axis=1),\n",
    "        alpha=0.25\n",
    "    )\n",
    "    #plt.subplot(121)\n",
    "    plt.plot(\n",
    "        range(train_scores.shape[0]),\n",
    "        np.mean(valid_scores, axis=1),\n",
    "        label=\"valid\",\n",
    "        linewidth=3,\n",
    "        marker=\"s\"\n",
    "    )\n",
    "    plt.fill_between(\n",
    "        x=range(train_scores.shape[0]),\n",
    "        y1=np.mean(valid_scores, axis=1)-np.std(valid_scores, axis=1),\n",
    "        y2=np.mean(valid_scores, axis=1)+np.std(valid_scores, axis=1),\n",
    "        alpha=0.25\n",
    "    )\n",
    "    plt.legend(loc=\"best\", fontsize=14)\n",
    "    plt.ylabel(\"roc_auc\", size=15)"
   ]
  },
  {
   "cell_type": "code",
   "execution_count": 37,
   "metadata": {},
   "outputs": [
    {
     "name": "stdout",
     "output_type": "stream",
     "text": [
      "Model Score: train = 0.7654, valid = 0.7482\n"
     ]
    }
   ],
   "source": [
    "pipeline = Pipeline(\n",
    "    steps=[\n",
    "        (\"scaling\", StandardScaler()),\n",
    "        (\"model\", LogisticRegression(random_state=27, C=1e-5))\n",
    "    ]\n",
    ")\n",
    "y_train_pred, y_valid_pred = fit_evaluate_model(\n",
    "    pipeline, x_train, y_train, x_valid, y_valid\n",
    ")"
   ]
  },
  {
   "cell_type": "code",
   "execution_count": 35,
   "metadata": {},
   "outputs": [],
   "source": [
    "import warnings\n",
    "from typing import Tuple, List\n",
    "\n",
    "import numpy as np\n",
    "import pandas as pd\n",
    "import seaborn as sns\n",
    "import matplotlib.pyplot as plt\n",
    "\n",
    "from sklearn.pipeline import Pipeline\n",
    "from sklearn.metrics import roc_auc_score\n",
    "from sklearn.tree import DecisionTreeClassifier\n",
    "from sklearn.preprocessing import StandardScaler\n",
    "from sklearn.linear_model import LogisticRegression\n",
    "from sklearn.ensemble import BaggingClassifier, RandomForestClassifier\n",
    "from sklearn.model_selection import train_test_split, validation_curve, learning_curve"
   ]
  },
  {
   "cell_type": "code",
   "execution_count": 36,
   "metadata": {},
   "outputs": [
    {
     "data": {
      "text/html": [
       "<div>\n",
       "<style scoped>\n",
       "    .dataframe tbody tr th:only-of-type {\n",
       "        vertical-align: middle;\n",
       "    }\n",
       "\n",
       "    .dataframe tbody tr th {\n",
       "        vertical-align: top;\n",
       "    }\n",
       "\n",
       "    .dataframe thead th {\n",
       "        text-align: right;\n",
       "    }\n",
       "</style>\n",
       "<table border=\"1\" class=\"dataframe\">\n",
       "  <thead>\n",
       "    <tr style=\"text-align: right;\">\n",
       "      <th></th>\n",
       "      <th>RowNumber</th>\n",
       "      <th>CustomerId</th>\n",
       "      <th>CreditScore</th>\n",
       "      <th>Geography</th>\n",
       "      <th>Gender</th>\n",
       "      <th>Age</th>\n",
       "      <th>Tenure</th>\n",
       "      <th>Balance</th>\n",
       "      <th>NumOfProducts</th>\n",
       "      <th>HasCrCard</th>\n",
       "      <th>IsActiveMember</th>\n",
       "      <th>EstimatedSalary</th>\n",
       "      <th>Exited</th>\n",
       "    </tr>\n",
       "  </thead>\n",
       "  <tbody>\n",
       "    <tr>\n",
       "      <th>0</th>\n",
       "      <td>8160</td>\n",
       "      <td>15637427</td>\n",
       "      <td>461</td>\n",
       "      <td>2.0</td>\n",
       "      <td>0.0</td>\n",
       "      <td>25</td>\n",
       "      <td>6</td>\n",
       "      <td>0.00</td>\n",
       "      <td>2</td>\n",
       "      <td>1</td>\n",
       "      <td>1</td>\n",
       "      <td>15306.29</td>\n",
       "      <td>0</td>\n",
       "    </tr>\n",
       "    <tr>\n",
       "      <th>1</th>\n",
       "      <td>6333</td>\n",
       "      <td>15793046</td>\n",
       "      <td>619</td>\n",
       "      <td>0.0</td>\n",
       "      <td>0.0</td>\n",
       "      <td>35</td>\n",
       "      <td>4</td>\n",
       "      <td>90413.12</td>\n",
       "      <td>1</td>\n",
       "      <td>1</td>\n",
       "      <td>1</td>\n",
       "      <td>20555.21</td>\n",
       "      <td>0</td>\n",
       "    </tr>\n",
       "    <tr>\n",
       "      <th>2</th>\n",
       "      <td>8896</td>\n",
       "      <td>15658972</td>\n",
       "      <td>699</td>\n",
       "      <td>0.0</td>\n",
       "      <td>0.0</td>\n",
       "      <td>40</td>\n",
       "      <td>8</td>\n",
       "      <td>122038.34</td>\n",
       "      <td>1</td>\n",
       "      <td>1</td>\n",
       "      <td>0</td>\n",
       "      <td>102085.35</td>\n",
       "      <td>0</td>\n",
       "    </tr>\n",
       "  </tbody>\n",
       "</table>\n",
       "</div>"
      ],
      "text/plain": [
       "   RowNumber  CustomerId  CreditScore  Geography  Gender  Age  Tenure  \\\n",
       "0       8160    15637427          461        2.0     0.0   25       6   \n",
       "1       6333    15793046          619        0.0     0.0   35       4   \n",
       "2       8896    15658972          699        0.0     0.0   40       8   \n",
       "\n",
       "     Balance  NumOfProducts  HasCrCard  IsActiveMember  EstimatedSalary  \\\n",
       "0       0.00              2          1               1         15306.29   \n",
       "1   90413.12              1          1               1         20555.21   \n",
       "2  122038.34              1          1               0        102085.35   \n",
       "\n",
       "   Exited  \n",
       "0       0  \n",
       "1       0  \n",
       "2       0  "
      ]
     },
     "execution_count": 36,
     "metadata": {},
     "output_type": "execute_result"
    }
   ],
   "source": [
    "train2.head(n=3)"
   ]
  },
  {
   "cell_type": "code",
   "execution_count": 40,
   "metadata": {},
   "outputs": [
    {
     "name": "stdout",
     "output_type": "stream",
     "text": [
      "x_train.shape = 5400 rows, 11 cols\n",
      "x_valid.shape = 1800 rows, 11 cols\n"
     ]
    }
   ],
   "source": [
    "x_train, x_valid = train_test_split(\n",
    "    train2.drop([\"RowNumber\", \"Exited\"], axis=1), train_size=0.75, shuffle=True, random_state=1,\n",
    ")\n",
    "y_train, y_valid = train_test_split(\n",
    "    train2[\"Exited\"], train_size=0.75, shuffle=True, random_state=1,\n",
    ")\n",
    "print(\"x_train.shape = {} rows, {} cols\".format(*x_train.shape))\n",
    "print(\"x_valid.shape = {} rows, {} cols\".format(*x_valid.shape))"
   ]
  },
  {
   "cell_type": "code",
   "execution_count": 42,
   "metadata": {},
   "outputs": [],
   "source": [
    "x_train = train2.drop([\"RowNumber\", \"Exited\"], axis=1)\n",
    "y_train = train2[\"Exited\"]"
   ]
  },
  {
   "cell_type": "code",
   "execution_count": 52,
   "metadata": {},
   "outputs": [
    {
     "data": {
      "text/plain": [
       "7200"
      ]
     },
     "execution_count": 52,
     "metadata": {},
     "output_type": "execute_result"
    }
   ],
   "source": [
    "len(train2)"
   ]
  },
  {
   "cell_type": "code",
   "execution_count": 53,
   "metadata": {},
   "outputs": [
    {
     "data": {
      "text/plain": [
       "7200"
      ]
     },
     "execution_count": 53,
     "metadata": {},
     "output_type": "execute_result"
    }
   ],
   "source": [
    "len(train)"
   ]
  },
  {
   "cell_type": "code",
   "execution_count": 43,
   "metadata": {},
   "outputs": [
    {
     "data": {
      "text/html": [
       "<div>\n",
       "<style scoped>\n",
       "    .dataframe tbody tr th:only-of-type {\n",
       "        vertical-align: middle;\n",
       "    }\n",
       "\n",
       "    .dataframe tbody tr th {\n",
       "        vertical-align: top;\n",
       "    }\n",
       "\n",
       "    .dataframe thead th {\n",
       "        text-align: right;\n",
       "    }\n",
       "</style>\n",
       "<table border=\"1\" class=\"dataframe\">\n",
       "  <thead>\n",
       "    <tr style=\"text-align: right;\">\n",
       "      <th></th>\n",
       "      <th>CustomerId</th>\n",
       "      <th>CreditScore</th>\n",
       "      <th>Geography</th>\n",
       "      <th>Gender</th>\n",
       "      <th>Age</th>\n",
       "      <th>Tenure</th>\n",
       "      <th>Balance</th>\n",
       "      <th>NumOfProducts</th>\n",
       "      <th>HasCrCard</th>\n",
       "      <th>IsActiveMember</th>\n",
       "      <th>EstimatedSalary</th>\n",
       "    </tr>\n",
       "  </thead>\n",
       "  <tbody>\n",
       "    <tr>\n",
       "      <th>0</th>\n",
       "      <td>15637427</td>\n",
       "      <td>461</td>\n",
       "      <td>2.0</td>\n",
       "      <td>0.0</td>\n",
       "      <td>25</td>\n",
       "      <td>6</td>\n",
       "      <td>0.00</td>\n",
       "      <td>2</td>\n",
       "      <td>1</td>\n",
       "      <td>1</td>\n",
       "      <td>15306.29</td>\n",
       "    </tr>\n",
       "    <tr>\n",
       "      <th>1</th>\n",
       "      <td>15793046</td>\n",
       "      <td>619</td>\n",
       "      <td>0.0</td>\n",
       "      <td>0.0</td>\n",
       "      <td>35</td>\n",
       "      <td>4</td>\n",
       "      <td>90413.12</td>\n",
       "      <td>1</td>\n",
       "      <td>1</td>\n",
       "      <td>1</td>\n",
       "      <td>20555.21</td>\n",
       "    </tr>\n",
       "    <tr>\n",
       "      <th>2</th>\n",
       "      <td>15658972</td>\n",
       "      <td>699</td>\n",
       "      <td>0.0</td>\n",
       "      <td>0.0</td>\n",
       "      <td>40</td>\n",
       "      <td>8</td>\n",
       "      <td>122038.34</td>\n",
       "      <td>1</td>\n",
       "      <td>1</td>\n",
       "      <td>0</td>\n",
       "      <td>102085.35</td>\n",
       "    </tr>\n",
       "    <tr>\n",
       "      <th>3</th>\n",
       "      <td>15679048</td>\n",
       "      <td>558</td>\n",
       "      <td>1.0</td>\n",
       "      <td>1.0</td>\n",
       "      <td>41</td>\n",
       "      <td>2</td>\n",
       "      <td>124227.14</td>\n",
       "      <td>1</td>\n",
       "      <td>1</td>\n",
       "      <td>1</td>\n",
       "      <td>111184.67</td>\n",
       "    </tr>\n",
       "  </tbody>\n",
       "</table>\n",
       "</div>"
      ],
      "text/plain": [
       "   CustomerId  CreditScore  Geography  Gender  Age  Tenure    Balance  \\\n",
       "0    15637427          461        2.0     0.0   25       6       0.00   \n",
       "1    15793046          619        0.0     0.0   35       4   90413.12   \n",
       "2    15658972          699        0.0     0.0   40       8  122038.34   \n",
       "3    15679048          558        1.0     1.0   41       2  124227.14   \n",
       "\n",
       "   NumOfProducts  HasCrCard  IsActiveMember  EstimatedSalary  \n",
       "0              2          1               1         15306.29  \n",
       "1              1          1               1         20555.21  \n",
       "2              1          1               0        102085.35  \n",
       "3              1          1               1        111184.67  "
      ]
     },
     "execution_count": 43,
     "metadata": {},
     "output_type": "execute_result"
    }
   ],
   "source": [
    "x_train.head (n=4)"
   ]
  },
  {
   "cell_type": "code",
   "execution_count": 67,
   "metadata": {},
   "outputs": [
    {
     "data": {
      "text/plain": [
       "7200"
      ]
     },
     "execution_count": 67,
     "metadata": {},
     "output_type": "execute_result"
    }
   ],
   "source": [
    "len(x_train)"
   ]
  },
  {
   "cell_type": "code",
   "execution_count": 44,
   "metadata": {},
   "outputs": [
    {
     "data": {
      "text/plain": [
       "0    0\n",
       "1    0\n",
       "2    0\n",
       "3    0\n",
       "Name: Exited, dtype: int64"
      ]
     },
     "execution_count": 44,
     "metadata": {},
     "output_type": "execute_result"
    }
   ],
   "source": [
    "y_train.head (n=4)"
   ]
  },
  {
   "cell_type": "code",
   "execution_count": 38,
   "metadata": {},
   "outputs": [],
   "source": [
    "def fit_evaluate_model(estimator, x_train, y_train, x_valid, y_valid):\n",
    "    \"\"\"\n",
    "    Функция для обучения и оценки качества модели.\n",
    "\n",
    "    Parameters\n",
    "    ----------\n",
    "    estimator: callable\n",
    "        Объект для обучения и применения модели.\n",
    "\n",
    "    x_train: pandas.DataFrame\n",
    "        Матрица признаков для обучения модели.\n",
    "\n",
    "    y_train: pandas.Series\n",
    "        Вектор целевой переменной для обучения модели.\n",
    "\n",
    "    x_valid: pandas.DataFrame\n",
    "        Матрица признаков для валидации модели.\n",
    "\n",
    "    y_valid: pandas.Series\n",
    "        Вектор целевой переменной для валидации модели.\n",
    "\n",
    "    Returns\n",
    "    -------\n",
    "    y_train_pred: np.array\n",
    "        Вектор прогнозов для обучающей выборки\n",
    "\n",
    "    y_valid_pred: np.array\n",
    "        Вектор прогнозов для валидационной выборки\n",
    "\n",
    "    \"\"\"\n",
    "    estimator.fit(x_train, y_train)\n",
    "    y_train_pred = estimator.predict_proba(x_train)[:, 1]\n",
    "    y_valid_pred = estimator.predict_proba(x_valid)[:, 1]\n",
    "\n",
    "    train_score = roc_auc_score(y_train, y_train_pred)\n",
    "    valid_score = roc_auc_score(y_valid, y_valid_pred)\n",
    "    print(f\"Model Score: train = {round(train_score, 4)}, valid = {round(valid_score, 4)}\")\n",
    "\n",
    "    return y_train_pred, y_valid_pred\n",
    "\n",
    "\n",
    "def plot_validation_curves(train_scores: np.array,\n",
    "                           valid_scores: np.array,\n",
    "                           figsize: Tuple[int, int] = (8, 8)\n",
    "                          ):\n",
    "    \"\"\"\n",
    "    Визуализация процесса настройки гиперпараметра\n",
    "    алгоритма машинного обучения. Визуализируется значение\n",
    "    метрики качества на обучащей и тестовой части данных, на\n",
    "    валидационной части данных и доверительные интервалы.\n",
    "\n",
    "    Parameters\n",
    "    ----------\n",
    "    train_scores: np.array\n",
    "        Значения метрики качества на обучающей выборке.\n",
    "\n",
    "    valid_scores: np.array\n",
    "        Значения метрики качества на валидационной выборке.\n",
    "\n",
    "    \"\"\"\n",
    "    fig = plt.figure(figsize=figsize)\n",
    "\n",
    "    #plt.subplot(121)\n",
    "    plt.title(\"Validation Curves\", size=15)\n",
    "    plt.plot(\n",
    "        range(train_scores.shape[0]),\n",
    "        np.mean(train_scores, axis=1),\n",
    "        label=\"train\",\n",
    "        linewidth=3,\n",
    "        marker=\"s\"\n",
    "    )\n",
    "    plt.fill_between(\n",
    "        x=range(train_scores.shape[0]),\n",
    "        y1=np.mean(train_scores, axis=1)-np.std(train_scores, axis=1),\n",
    "        y2=np.mean(train_scores, axis=1)+np.std(train_scores, axis=1),\n",
    "        alpha=0.25\n",
    "    )\n",
    "    #plt.subplot(121)\n",
    "    plt.plot(\n",
    "        range(train_scores.shape[0]),\n",
    "        np.mean(valid_scores, axis=1),\n",
    "        label=\"valid\",\n",
    "        linewidth=3,\n",
    "        marker=\"s\"\n",
    "    )\n",
    "    plt.fill_between(\n",
    "        x=range(train_scores.shape[0]),\n",
    "        y1=np.mean(valid_scores, axis=1)-np.std(valid_scores, axis=1),\n",
    "        y2=np.mean(valid_scores, axis=1)+np.std(valid_scores, axis=1),\n",
    "        alpha=0.25\n",
    "    )\n",
    "    plt.legend(loc=\"best\", fontsize=14)\n",
    "    plt.ylabel(\"roc_auc\", size=15)"
   ]
  },
  {
   "cell_type": "code",
   "execution_count": 41,
   "metadata": {},
   "outputs": [
    {
     "name": "stdout",
     "output_type": "stream",
     "text": [
      "Model Score: train = 0.7647, valid = 0.7463\n"
     ]
    }
   ],
   "source": [
    "pipeline = Pipeline(\n",
    "    steps=[\n",
    "        (\"scaling\", StandardScaler()),\n",
    "        (\"model\", LogisticRegression(random_state=27, C=1e-5))\n",
    "    ]\n",
    ")\n",
    "y_train_pred, y_valid_pred = fit_evaluate_model(\n",
    "    pipeline, x_train, y_train, x_valid, y_valid\n",
    ")"
   ]
  },
  {
   "cell_type": "code",
   "execution_count": 45,
   "metadata": {},
   "outputs": [],
   "source": [
    "def fit_evaluate_model(estimator, x_train, y_train):\n",
    "    \"\"\"\n",
    "    Функция для обучения и оценки качества модели.\n",
    "\n",
    "    Parameters\n",
    "    ----------\n",
    "    estimator: callable\n",
    "        Объект для обучения и применения модели.\n",
    "\n",
    "    x_train: pandas.DataFrame\n",
    "        Матрица признаков для обучения модели.\n",
    "\n",
    "    y_train: pandas.Series\n",
    "        Вектор целевой переменной для обучения модели.\n",
    "\n",
    "    x_valid: pandas.DataFrame\n",
    "        Матрица признаков для валидации модели.\n",
    "\n",
    "    y_valid: pandas.Series\n",
    "        Вектор целевой переменной для валидации модели.\n",
    "\n",
    "    Returns\n",
    "    -------\n",
    "    y_train_pred: np.array\n",
    "        Вектор прогнозов для обучающей выборки\n",
    "\n",
    "    y_valid_pred: np.array\n",
    "        Вектор прогнозов для валидационной выборки\n",
    "\n",
    "    \"\"\"\n",
    "    estimator.fit(x_train, y_train)\n",
    "    y_train_pred = estimator.predict_proba(x_train)[:, 1]\n",
    "    #y_valid_pred = estimator.predict_proba(x_valid)[:, 1]\n",
    "\n",
    "    train_score = roc_auc_score(y_train, y_train_pred)\n",
    "   # valid_score = roc_auc_score(y_valid, y_valid_pred)\n",
    "    print(f\"Model Score: train = {round(train_score, 4)}\")\n",
    "\n",
    "    return y_train_pred\n",
    "\n",
    "\n",
    "def plot_validation_curves(train_scores: np.array,\n",
    "                           \n",
    "                           figsize: Tuple[int, int] = (8, 8)\n",
    "                          ):\n",
    "    \"\"\"\n",
    "    Визуализация процесса настройки гиперпараметра\n",
    "    алгоритма машинного обучения. Визуализируется значение\n",
    "    метрики качества на обучащей и тестовой части данных, на\n",
    "    валидационной части данных и доверительные интервалы.\n",
    "\n",
    "    Parameters\n",
    "    ----------\n",
    "    train_scores: np.array\n",
    "        Значения метрики качества на обучающей выборке.\n",
    "\n",
    "    valid_scores: np.array\n",
    "        Значения метрики качества на валидационной выборке.\n",
    "\n",
    "    \"\"\"\n",
    "    fig = plt.figure(figsize=figsize)\n",
    "\n",
    "    #plt.subplot(121)\n",
    "    plt.title(\"Validation Curves\", size=15)\n",
    "    plt.plot(\n",
    "        range(train_scores.shape[0]),\n",
    "        np.mean(train_scores, axis=1),\n",
    "        label=\"train\",\n",
    "        linewidth=3,\n",
    "        marker=\"s\"\n",
    "    )\n",
    "    plt.fill_between(\n",
    "        x=range(train_scores.shape[0]),\n",
    "        y1=np.mean(train_scores, axis=1)-np.std(train_scores, axis=1),\n",
    "        y2=np.mean(train_scores, axis=1)+np.std(train_scores, axis=1),\n",
    "        alpha=0.25\n",
    "    )\n",
    "    #plt.subplot(121)\n",
    "    plt.plot(\n",
    "        range(train_scores.shape[0]),\n",
    "        np.mean(valid_scores, axis=1),\n",
    "        label=\"valid\",\n",
    "        linewidth=3,\n",
    "        marker=\"s\"\n",
    "    )\n",
    "    plt.fill_between(\n",
    "        x=range(train_scores.shape[0]),\n",
    "        y1=np.mean(valid_scores, axis=1)-np.std(valid_scores, axis=1),\n",
    "        y2=np.mean(valid_scores, axis=1)+np.std(valid_scores, axis=1),\n",
    "        alpha=0.25\n",
    "    )\n",
    "    plt.legend(loc=\"best\", fontsize=14)\n",
    "    plt.ylabel(\"roc_auc\", size=15)"
   ]
  },
  {
   "cell_type": "code",
   "execution_count": 46,
   "metadata": {},
   "outputs": [
    {
     "name": "stdout",
     "output_type": "stream",
     "text": [
      "Model Score: train = 0.7615\n"
     ]
    }
   ],
   "source": [
    "pipeline = Pipeline(\n",
    "    steps=[\n",
    "        (\"scaling\", StandardScaler()),\n",
    "        (\"model\", LogisticRegression(random_state=27, C=1e-5))\n",
    "    ]\n",
    ")\n",
    "y_train_pred = fit_evaluate_model(\n",
    "    pipeline, x_train, y_train\n",
    ")"
   ]
  },
  {
   "cell_type": "code",
   "execution_count": 47,
   "metadata": {},
   "outputs": [
    {
     "name": "stdout",
     "output_type": "stream",
     "text": [
      "Model Score: train = 0.7612\n"
     ]
    }
   ],
   "source": [
    "bagging = BaggingClassifier(\n",
    "    base_estimator=pipeline, random_state=27, n_jobs=2\n",
    ")\n",
    "y_train_pred = fit_evaluate_model(\n",
    "    bagging, x_train, y_train\n",
    ")"
   ]
  },
  {
   "cell_type": "code",
   "execution_count": 48,
   "metadata": {},
   "outputs": [
    {
     "name": "stdout",
     "output_type": "stream",
     "text": [
      "Model Score: train = 0.9995\n"
     ]
    }
   ],
   "source": [
    "bagging = BaggingClassifier(\n",
    "    base_estimator=DecisionTreeClassifier(random_state=27), random_state=27, n_jobs=2\n",
    ")\n",
    "y_train_pred = fit_evaluate_model(\n",
    "    bagging, x_train, y_train\n",
    ")"
   ]
  },
  {
   "cell_type": "code",
   "execution_count": 49,
   "metadata": {},
   "outputs": [
    {
     "name": "stdout",
     "output_type": "stream",
     "text": [
      "Model Score: train = 0.8613\n",
      "Wall time: 78 ms\n"
     ]
    }
   ],
   "source": [
    "%%time\n",
    "bagging = BaggingClassifier(\n",
    "    base_estimator=DecisionTreeClassifier(max_depth=5, random_state=27), random_state=27, n_jobs=2\n",
    ")\n",
    "y_train_pred = fit_evaluate_model(\n",
    "    bagging, x_train, y_train\n",
    ")"
   ]
  },
  {
   "cell_type": "code",
   "execution_count": 50,
   "metadata": {},
   "outputs": [
    {
     "data": {
      "text/plain": [
       "array([0.01699768, 0.14369624, 0.20933935, ..., 0.45684304, 0.13883256,\n",
       "       0.14924947])"
      ]
     },
     "execution_count": 50,
     "metadata": {},
     "output_type": "execute_result"
    }
   ],
   "source": [
    "y_train_pred"
   ]
  },
  {
   "cell_type": "code",
   "execution_count": 51,
   "metadata": {},
   "outputs": [
    {
     "data": {
      "text/plain": [
       "7200"
      ]
     },
     "execution_count": 51,
     "metadata": {},
     "output_type": "execute_result"
    }
   ],
   "source": [
    "len(y_train_pred)"
   ]
  },
  {
   "cell_type": "code",
   "execution_count": 56,
   "metadata": {},
   "outputs": [
    {
     "data": {
      "text/plain": [
       "7200"
      ]
     },
     "execution_count": 56,
     "metadata": {},
     "output_type": "execute_result"
    }
   ],
   "source": [
    "len(train2)"
   ]
  },
  {
   "cell_type": "code",
   "execution_count": 57,
   "metadata": {},
   "outputs": [
    {
     "data": {
      "text/html": [
       "<div>\n",
       "<style scoped>\n",
       "    .dataframe tbody tr th:only-of-type {\n",
       "        vertical-align: middle;\n",
       "    }\n",
       "\n",
       "    .dataframe tbody tr th {\n",
       "        vertical-align: top;\n",
       "    }\n",
       "\n",
       "    .dataframe thead th {\n",
       "        text-align: right;\n",
       "    }\n",
       "</style>\n",
       "<table border=\"1\" class=\"dataframe\">\n",
       "  <thead>\n",
       "    <tr style=\"text-align: right;\">\n",
       "      <th></th>\n",
       "      <th>RowNumber</th>\n",
       "      <th>CustomerId</th>\n",
       "      <th>CreditScore</th>\n",
       "      <th>Geography</th>\n",
       "      <th>Gender</th>\n",
       "      <th>Age</th>\n",
       "      <th>Tenure</th>\n",
       "      <th>Balance</th>\n",
       "      <th>NumOfProducts</th>\n",
       "      <th>HasCrCard</th>\n",
       "      <th>IsActiveMember</th>\n",
       "      <th>EstimatedSalary</th>\n",
       "      <th>Exited</th>\n",
       "    </tr>\n",
       "  </thead>\n",
       "  <tbody>\n",
       "    <tr>\n",
       "      <th>0</th>\n",
       "      <td>8160</td>\n",
       "      <td>15637427</td>\n",
       "      <td>461</td>\n",
       "      <td>2.0</td>\n",
       "      <td>0.0</td>\n",
       "      <td>25</td>\n",
       "      <td>6</td>\n",
       "      <td>0.00</td>\n",
       "      <td>2</td>\n",
       "      <td>1</td>\n",
       "      <td>1</td>\n",
       "      <td>15306.29</td>\n",
       "      <td>0</td>\n",
       "    </tr>\n",
       "    <tr>\n",
       "      <th>1</th>\n",
       "      <td>6333</td>\n",
       "      <td>15793046</td>\n",
       "      <td>619</td>\n",
       "      <td>0.0</td>\n",
       "      <td>0.0</td>\n",
       "      <td>35</td>\n",
       "      <td>4</td>\n",
       "      <td>90413.12</td>\n",
       "      <td>1</td>\n",
       "      <td>1</td>\n",
       "      <td>1</td>\n",
       "      <td>20555.21</td>\n",
       "      <td>0</td>\n",
       "    </tr>\n",
       "    <tr>\n",
       "      <th>2</th>\n",
       "      <td>8896</td>\n",
       "      <td>15658972</td>\n",
       "      <td>699</td>\n",
       "      <td>0.0</td>\n",
       "      <td>0.0</td>\n",
       "      <td>40</td>\n",
       "      <td>8</td>\n",
       "      <td>122038.34</td>\n",
       "      <td>1</td>\n",
       "      <td>1</td>\n",
       "      <td>0</td>\n",
       "      <td>102085.35</td>\n",
       "      <td>0</td>\n",
       "    </tr>\n",
       "  </tbody>\n",
       "</table>\n",
       "</div>"
      ],
      "text/plain": [
       "   RowNumber  CustomerId  CreditScore  Geography  Gender  Age  Tenure  \\\n",
       "0       8160    15637427          461        2.0     0.0   25       6   \n",
       "1       6333    15793046          619        0.0     0.0   35       4   \n",
       "2       8896    15658972          699        0.0     0.0   40       8   \n",
       "\n",
       "     Balance  NumOfProducts  HasCrCard  IsActiveMember  EstimatedSalary  \\\n",
       "0       0.00              2          1               1         15306.29   \n",
       "1   90413.12              1          1               1         20555.21   \n",
       "2  122038.34              1          1               0        102085.35   \n",
       "\n",
       "   Exited  \n",
       "0       0  \n",
       "1       0  \n",
       "2       0  "
      ]
     },
     "execution_count": 57,
     "metadata": {},
     "output_type": "execute_result"
    }
   ],
   "source": [
    "train2.head(n=3)"
   ]
  },
  {
   "cell_type": "code",
   "execution_count": 54,
   "metadata": {},
   "outputs": [
    {
     "data": {
      "text/plain": [
       "800"
      ]
     },
     "execution_count": 54,
     "metadata": {},
     "output_type": "execute_result"
    }
   ],
   "source": [
    "len(test)"
   ]
  },
  {
   "cell_type": "code",
   "execution_count": 58,
   "metadata": {},
   "outputs": [
    {
     "data": {
      "text/html": [
       "<div>\n",
       "<style scoped>\n",
       "    .dataframe tbody tr th:only-of-type {\n",
       "        vertical-align: middle;\n",
       "    }\n",
       "\n",
       "    .dataframe tbody tr th {\n",
       "        vertical-align: top;\n",
       "    }\n",
       "\n",
       "    .dataframe thead th {\n",
       "        text-align: right;\n",
       "    }\n",
       "</style>\n",
       "<table border=\"1\" class=\"dataframe\">\n",
       "  <thead>\n",
       "    <tr style=\"text-align: right;\">\n",
       "      <th></th>\n",
       "      <th>RowNumber</th>\n",
       "      <th>CustomerId</th>\n",
       "      <th>Surname</th>\n",
       "      <th>CreditScore</th>\n",
       "      <th>Geography</th>\n",
       "      <th>Gender</th>\n",
       "      <th>Age</th>\n",
       "      <th>Tenure</th>\n",
       "      <th>Balance</th>\n",
       "      <th>NumOfProducts</th>\n",
       "      <th>HasCrCard</th>\n",
       "      <th>IsActiveMember</th>\n",
       "      <th>EstimatedSalary</th>\n",
       "    </tr>\n",
       "  </thead>\n",
       "  <tbody>\n",
       "    <tr>\n",
       "      <th>0</th>\n",
       "      <td>4801</td>\n",
       "      <td>15679810</td>\n",
       "      <td>Chapman</td>\n",
       "      <td>690</td>\n",
       "      <td>France</td>\n",
       "      <td>Male</td>\n",
       "      <td>39</td>\n",
       "      <td>6</td>\n",
       "      <td>0.0</td>\n",
       "      <td>2</td>\n",
       "      <td>1</td>\n",
       "      <td>0</td>\n",
       "      <td>160532.88</td>\n",
       "    </tr>\n",
       "    <tr>\n",
       "      <th>1</th>\n",
       "      <td>2102</td>\n",
       "      <td>15778934</td>\n",
       "      <td>Napolitani</td>\n",
       "      <td>678</td>\n",
       "      <td>Spain</td>\n",
       "      <td>Female</td>\n",
       "      <td>49</td>\n",
       "      <td>8</td>\n",
       "      <td>0.0</td>\n",
       "      <td>2</td>\n",
       "      <td>0</td>\n",
       "      <td>1</td>\n",
       "      <td>98090.69</td>\n",
       "    </tr>\n",
       "    <tr>\n",
       "      <th>2</th>\n",
       "      <td>4487</td>\n",
       "      <td>15660646</td>\n",
       "      <td>Fanucci</td>\n",
       "      <td>528</td>\n",
       "      <td>France</td>\n",
       "      <td>Male</td>\n",
       "      <td>35</td>\n",
       "      <td>3</td>\n",
       "      <td>156687.1</td>\n",
       "      <td>1</td>\n",
       "      <td>1</td>\n",
       "      <td>0</td>\n",
       "      <td>199320.77</td>\n",
       "    </tr>\n",
       "  </tbody>\n",
       "</table>\n",
       "</div>"
      ],
      "text/plain": [
       "   RowNumber  CustomerId     Surname  CreditScore Geography  Gender  Age  \\\n",
       "0       4801    15679810     Chapman          690    France    Male   39   \n",
       "1       2102    15778934  Napolitani          678     Spain  Female   49   \n",
       "2       4487    15660646     Fanucci          528    France    Male   35   \n",
       "\n",
       "   Tenure   Balance  NumOfProducts  HasCrCard  IsActiveMember  EstimatedSalary  \n",
       "0       6       0.0              2          1               0        160532.88  \n",
       "1       8       0.0              2          0               1         98090.69  \n",
       "2       3  156687.1              1          1               0        199320.77  "
      ]
     },
     "execution_count": 58,
     "metadata": {},
     "output_type": "execute_result"
    }
   ],
   "source": [
    "test.head(n=3)"
   ]
  },
  {
   "cell_type": "code",
   "execution_count": 59,
   "metadata": {},
   "outputs": [],
   "source": [
    "test2 = test.copy()"
   ]
  },
  {
   "cell_type": "code",
   "execution_count": 60,
   "metadata": {},
   "outputs": [
    {
     "data": {
      "text/html": [
       "<div>\n",
       "<style scoped>\n",
       "    .dataframe tbody tr th:only-of-type {\n",
       "        vertical-align: middle;\n",
       "    }\n",
       "\n",
       "    .dataframe tbody tr th {\n",
       "        vertical-align: top;\n",
       "    }\n",
       "\n",
       "    .dataframe thead th {\n",
       "        text-align: right;\n",
       "    }\n",
       "</style>\n",
       "<table border=\"1\" class=\"dataframe\">\n",
       "  <thead>\n",
       "    <tr style=\"text-align: right;\">\n",
       "      <th></th>\n",
       "      <th>RowNumber</th>\n",
       "      <th>CustomerId</th>\n",
       "      <th>Surname</th>\n",
       "      <th>CreditScore</th>\n",
       "      <th>Geography</th>\n",
       "      <th>Gender</th>\n",
       "      <th>Age</th>\n",
       "      <th>Tenure</th>\n",
       "      <th>Balance</th>\n",
       "      <th>NumOfProducts</th>\n",
       "      <th>HasCrCard</th>\n",
       "      <th>IsActiveMember</th>\n",
       "      <th>EstimatedSalary</th>\n",
       "    </tr>\n",
       "  </thead>\n",
       "  <tbody>\n",
       "    <tr>\n",
       "      <th>0</th>\n",
       "      <td>4801</td>\n",
       "      <td>15679810</td>\n",
       "      <td>Chapman</td>\n",
       "      <td>690</td>\n",
       "      <td>France</td>\n",
       "      <td>Male</td>\n",
       "      <td>39</td>\n",
       "      <td>6</td>\n",
       "      <td>0.00</td>\n",
       "      <td>2</td>\n",
       "      <td>1</td>\n",
       "      <td>0</td>\n",
       "      <td>160532.88</td>\n",
       "    </tr>\n",
       "    <tr>\n",
       "      <th>1</th>\n",
       "      <td>2102</td>\n",
       "      <td>15778934</td>\n",
       "      <td>Napolitani</td>\n",
       "      <td>678</td>\n",
       "      <td>Spain</td>\n",
       "      <td>Female</td>\n",
       "      <td>49</td>\n",
       "      <td>8</td>\n",
       "      <td>0.00</td>\n",
       "      <td>2</td>\n",
       "      <td>0</td>\n",
       "      <td>1</td>\n",
       "      <td>98090.69</td>\n",
       "    </tr>\n",
       "    <tr>\n",
       "      <th>2</th>\n",
       "      <td>4487</td>\n",
       "      <td>15660646</td>\n",
       "      <td>Fanucci</td>\n",
       "      <td>528</td>\n",
       "      <td>France</td>\n",
       "      <td>Male</td>\n",
       "      <td>35</td>\n",
       "      <td>3</td>\n",
       "      <td>156687.10</td>\n",
       "      <td>1</td>\n",
       "      <td>1</td>\n",
       "      <td>0</td>\n",
       "      <td>199320.77</td>\n",
       "    </tr>\n",
       "    <tr>\n",
       "      <th>3</th>\n",
       "      <td>1127</td>\n",
       "      <td>15593973</td>\n",
       "      <td>Wilkie</td>\n",
       "      <td>663</td>\n",
       "      <td>Spain</td>\n",
       "      <td>Female</td>\n",
       "      <td>33</td>\n",
       "      <td>8</td>\n",
       "      <td>122528.18</td>\n",
       "      <td>1</td>\n",
       "      <td>1</td>\n",
       "      <td>0</td>\n",
       "      <td>196260.30</td>\n",
       "    </tr>\n",
       "    <tr>\n",
       "      <th>4</th>\n",
       "      <td>383</td>\n",
       "      <td>15568240</td>\n",
       "      <td>Ting</td>\n",
       "      <td>492</td>\n",
       "      <td>Germany</td>\n",
       "      <td>Female</td>\n",
       "      <td>30</td>\n",
       "      <td>10</td>\n",
       "      <td>77168.87</td>\n",
       "      <td>2</td>\n",
       "      <td>0</td>\n",
       "      <td>1</td>\n",
       "      <td>146700.22</td>\n",
       "    </tr>\n",
       "  </tbody>\n",
       "</table>\n",
       "</div>"
      ],
      "text/plain": [
       "   RowNumber  CustomerId     Surname  CreditScore Geography  Gender  Age  \\\n",
       "0       4801    15679810     Chapman          690    France    Male   39   \n",
       "1       2102    15778934  Napolitani          678     Spain  Female   49   \n",
       "2       4487    15660646     Fanucci          528    France    Male   35   \n",
       "3       1127    15593973      Wilkie          663     Spain  Female   33   \n",
       "4        383    15568240        Ting          492   Germany  Female   30   \n",
       "\n",
       "   Tenure    Balance  NumOfProducts  HasCrCard  IsActiveMember  \\\n",
       "0       6       0.00              2          1               0   \n",
       "1       8       0.00              2          0               1   \n",
       "2       3  156687.10              1          1               0   \n",
       "3       8  122528.18              1          1               0   \n",
       "4      10   77168.87              2          0               1   \n",
       "\n",
       "   EstimatedSalary  \n",
       "0        160532.88  \n",
       "1         98090.69  \n",
       "2        199320.77  \n",
       "3        196260.30  \n",
       "4        146700.22  "
      ]
     },
     "execution_count": 60,
     "metadata": {},
     "output_type": "execute_result"
    }
   ],
   "source": [
    "test2.head(n=5)"
   ]
  },
  {
   "cell_type": "code",
   "execution_count": 61,
   "metadata": {},
   "outputs": [
    {
     "ename": "TypeError",
     "evalue": "ufunc 'isnan' not supported for the input types, and the inputs could not be safely coerced to any supported types according to the casting rule ''safe''",
     "output_type": "error",
     "traceback": [
      "\u001b[1;31m---------------------------------------------------------------------------\u001b[0m",
      "\u001b[1;31mTypeError\u001b[0m                                 Traceback (most recent call last)",
      "\u001b[1;32m~\\AppData\\Local\\Temp/ipykernel_18264/1419520332.py\u001b[0m in \u001b[0;36m<module>\u001b[1;34m\u001b[0m\n\u001b[0;32m      1\u001b[0m \u001b[0mtest2\u001b[0m\u001b[1;33m[\u001b[0m\u001b[0mcat_features\u001b[0m\u001b[1;33m]\u001b[0m \u001b[1;33m=\u001b[0m \u001b[0menc\u001b[0m\u001b[1;33m.\u001b[0m\u001b[0mfit_transform\u001b[0m\u001b[1;33m(\u001b[0m\u001b[0mtest2\u001b[0m\u001b[1;33m[\u001b[0m\u001b[0mcat_features\u001b[0m\u001b[1;33m]\u001b[0m\u001b[1;33m)\u001b[0m\u001b[1;33m\u001b[0m\u001b[1;33m\u001b[0m\u001b[0m\n\u001b[1;32m----> 2\u001b[1;33m \u001b[0mtest2\u001b[0m\u001b[1;33m[\u001b[0m\u001b[0mcat_features\u001b[0m\u001b[1;33m]\u001b[0m \u001b[1;33m=\u001b[0m \u001b[0menc\u001b[0m\u001b[1;33m.\u001b[0m\u001b[0mtransform\u001b[0m\u001b[1;33m(\u001b[0m\u001b[0mtest2\u001b[0m\u001b[1;33m[\u001b[0m\u001b[0mcat_features\u001b[0m\u001b[1;33m]\u001b[0m\u001b[1;33m)\u001b[0m\u001b[1;33m\u001b[0m\u001b[1;33m\u001b[0m\u001b[0m\n\u001b[0m",
      "\u001b[1;32mc:\\users\\olegi\\appdata\\local\\programs\\python\\python38\\lib\\site-packages\\sklearn\\preprocessing\\_encoders.py\u001b[0m in \u001b[0;36mtransform\u001b[1;34m(self, X)\u001b[0m\n\u001b[0;32m    928\u001b[0m             \u001b[0mTransformed\u001b[0m \u001b[0minput\u001b[0m\u001b[1;33m.\u001b[0m\u001b[1;33m\u001b[0m\u001b[1;33m\u001b[0m\u001b[0m\n\u001b[0;32m    929\u001b[0m         \"\"\"\n\u001b[1;32m--> 930\u001b[1;33m         X_int, X_mask = self._transform(\n\u001b[0m\u001b[0;32m    931\u001b[0m             \u001b[0mX\u001b[0m\u001b[1;33m,\u001b[0m \u001b[0mhandle_unknown\u001b[0m\u001b[1;33m=\u001b[0m\u001b[0mself\u001b[0m\u001b[1;33m.\u001b[0m\u001b[0mhandle_unknown\u001b[0m\u001b[1;33m,\u001b[0m \u001b[0mforce_all_finite\u001b[0m\u001b[1;33m=\u001b[0m\u001b[1;34m\"allow-nan\"\u001b[0m\u001b[1;33m\u001b[0m\u001b[1;33m\u001b[0m\u001b[0m\n\u001b[0;32m    932\u001b[0m         )\n",
      "\u001b[1;32mc:\\users\\olegi\\appdata\\local\\programs\\python\\python38\\lib\\site-packages\\sklearn\\preprocessing\\_encoders.py\u001b[0m in \u001b[0;36m_transform\u001b[1;34m(self, X, handle_unknown, force_all_finite, warn_on_unknown)\u001b[0m\n\u001b[0;32m    132\u001b[0m         \u001b[1;32mfor\u001b[0m \u001b[0mi\u001b[0m \u001b[1;32min\u001b[0m \u001b[0mrange\u001b[0m\u001b[1;33m(\u001b[0m\u001b[0mn_features\u001b[0m\u001b[1;33m)\u001b[0m\u001b[1;33m:\u001b[0m\u001b[1;33m\u001b[0m\u001b[1;33m\u001b[0m\u001b[0m\n\u001b[0;32m    133\u001b[0m             \u001b[0mXi\u001b[0m \u001b[1;33m=\u001b[0m \u001b[0mX_list\u001b[0m\u001b[1;33m[\u001b[0m\u001b[0mi\u001b[0m\u001b[1;33m]\u001b[0m\u001b[1;33m\u001b[0m\u001b[1;33m\u001b[0m\u001b[0m\n\u001b[1;32m--> 134\u001b[1;33m             \u001b[0mdiff\u001b[0m\u001b[1;33m,\u001b[0m \u001b[0mvalid_mask\u001b[0m \u001b[1;33m=\u001b[0m \u001b[0m_check_unknown\u001b[0m\u001b[1;33m(\u001b[0m\u001b[0mXi\u001b[0m\u001b[1;33m,\u001b[0m \u001b[0mself\u001b[0m\u001b[1;33m.\u001b[0m\u001b[0mcategories_\u001b[0m\u001b[1;33m[\u001b[0m\u001b[0mi\u001b[0m\u001b[1;33m]\u001b[0m\u001b[1;33m,\u001b[0m \u001b[0mreturn_mask\u001b[0m\u001b[1;33m=\u001b[0m\u001b[1;32mTrue\u001b[0m\u001b[1;33m)\u001b[0m\u001b[1;33m\u001b[0m\u001b[1;33m\u001b[0m\u001b[0m\n\u001b[0m\u001b[0;32m    135\u001b[0m \u001b[1;33m\u001b[0m\u001b[0m\n\u001b[0;32m    136\u001b[0m             \u001b[1;32mif\u001b[0m \u001b[1;32mnot\u001b[0m \u001b[0mnp\u001b[0m\u001b[1;33m.\u001b[0m\u001b[0mall\u001b[0m\u001b[1;33m(\u001b[0m\u001b[0mvalid_mask\u001b[0m\u001b[1;33m)\u001b[0m\u001b[1;33m:\u001b[0m\u001b[1;33m\u001b[0m\u001b[1;33m\u001b[0m\u001b[0m\n",
      "\u001b[1;32mc:\\users\\olegi\\appdata\\local\\programs\\python\\python38\\lib\\site-packages\\sklearn\\utils\\_encode.py\u001b[0m in \u001b[0;36m_check_unknown\u001b[1;34m(values, known_values, return_mask)\u001b[0m\n\u001b[0;32m    259\u001b[0m \u001b[1;33m\u001b[0m\u001b[0m\n\u001b[0;32m    260\u001b[0m         \u001b[1;31m# check for nans in the known_values\u001b[0m\u001b[1;33m\u001b[0m\u001b[1;33m\u001b[0m\u001b[1;33m\u001b[0m\u001b[0m\n\u001b[1;32m--> 261\u001b[1;33m         \u001b[1;32mif\u001b[0m \u001b[0mnp\u001b[0m\u001b[1;33m.\u001b[0m\u001b[0misnan\u001b[0m\u001b[1;33m(\u001b[0m\u001b[0mknown_values\u001b[0m\u001b[1;33m)\u001b[0m\u001b[1;33m.\u001b[0m\u001b[0many\u001b[0m\u001b[1;33m(\u001b[0m\u001b[1;33m)\u001b[0m\u001b[1;33m:\u001b[0m\u001b[1;33m\u001b[0m\u001b[1;33m\u001b[0m\u001b[0m\n\u001b[0m\u001b[0;32m    262\u001b[0m             \u001b[0mdiff_is_nan\u001b[0m \u001b[1;33m=\u001b[0m \u001b[0mnp\u001b[0m\u001b[1;33m.\u001b[0m\u001b[0misnan\u001b[0m\u001b[1;33m(\u001b[0m\u001b[0mdiff\u001b[0m\u001b[1;33m)\u001b[0m\u001b[1;33m\u001b[0m\u001b[1;33m\u001b[0m\u001b[0m\n\u001b[0;32m    263\u001b[0m             \u001b[1;32mif\u001b[0m \u001b[0mdiff_is_nan\u001b[0m\u001b[1;33m.\u001b[0m\u001b[0many\u001b[0m\u001b[1;33m(\u001b[0m\u001b[1;33m)\u001b[0m\u001b[1;33m:\u001b[0m\u001b[1;33m\u001b[0m\u001b[1;33m\u001b[0m\u001b[0m\n",
      "\u001b[1;31mTypeError\u001b[0m: ufunc 'isnan' not supported for the input types, and the inputs could not be safely coerced to any supported types according to the casting rule ''safe''"
     ]
    }
   ],
   "source": [
    "test2[cat_features] = enc.fit_transform(test2[cat_features])\n",
    "test2[cat_features] = enc.transform(test2[cat_features])"
   ]
  },
  {
   "cell_type": "code",
   "execution_count": 62,
   "metadata": {},
   "outputs": [
    {
     "data": {
      "text/html": [
       "<div>\n",
       "<style scoped>\n",
       "    .dataframe tbody tr th:only-of-type {\n",
       "        vertical-align: middle;\n",
       "    }\n",
       "\n",
       "    .dataframe tbody tr th {\n",
       "        vertical-align: top;\n",
       "    }\n",
       "\n",
       "    .dataframe thead th {\n",
       "        text-align: right;\n",
       "    }\n",
       "</style>\n",
       "<table border=\"1\" class=\"dataframe\">\n",
       "  <thead>\n",
       "    <tr style=\"text-align: right;\">\n",
       "      <th></th>\n",
       "      <th>RowNumber</th>\n",
       "      <th>CustomerId</th>\n",
       "      <th>Surname</th>\n",
       "      <th>CreditScore</th>\n",
       "      <th>Geography</th>\n",
       "      <th>Gender</th>\n",
       "      <th>Age</th>\n",
       "      <th>Tenure</th>\n",
       "      <th>Balance</th>\n",
       "      <th>NumOfProducts</th>\n",
       "      <th>HasCrCard</th>\n",
       "      <th>IsActiveMember</th>\n",
       "      <th>EstimatedSalary</th>\n",
       "    </tr>\n",
       "  </thead>\n",
       "  <tbody>\n",
       "    <tr>\n",
       "      <th>0</th>\n",
       "      <td>4801</td>\n",
       "      <td>15679810</td>\n",
       "      <td>Chapman</td>\n",
       "      <td>690</td>\n",
       "      <td>0.0</td>\n",
       "      <td>1.0</td>\n",
       "      <td>39</td>\n",
       "      <td>6</td>\n",
       "      <td>0.00</td>\n",
       "      <td>2</td>\n",
       "      <td>1</td>\n",
       "      <td>0</td>\n",
       "      <td>160532.88</td>\n",
       "    </tr>\n",
       "    <tr>\n",
       "      <th>1</th>\n",
       "      <td>2102</td>\n",
       "      <td>15778934</td>\n",
       "      <td>Napolitani</td>\n",
       "      <td>678</td>\n",
       "      <td>2.0</td>\n",
       "      <td>0.0</td>\n",
       "      <td>49</td>\n",
       "      <td>8</td>\n",
       "      <td>0.00</td>\n",
       "      <td>2</td>\n",
       "      <td>0</td>\n",
       "      <td>1</td>\n",
       "      <td>98090.69</td>\n",
       "    </tr>\n",
       "    <tr>\n",
       "      <th>2</th>\n",
       "      <td>4487</td>\n",
       "      <td>15660646</td>\n",
       "      <td>Fanucci</td>\n",
       "      <td>528</td>\n",
       "      <td>0.0</td>\n",
       "      <td>1.0</td>\n",
       "      <td>35</td>\n",
       "      <td>3</td>\n",
       "      <td>156687.10</td>\n",
       "      <td>1</td>\n",
       "      <td>1</td>\n",
       "      <td>0</td>\n",
       "      <td>199320.77</td>\n",
       "    </tr>\n",
       "    <tr>\n",
       "      <th>3</th>\n",
       "      <td>1127</td>\n",
       "      <td>15593973</td>\n",
       "      <td>Wilkie</td>\n",
       "      <td>663</td>\n",
       "      <td>2.0</td>\n",
       "      <td>0.0</td>\n",
       "      <td>33</td>\n",
       "      <td>8</td>\n",
       "      <td>122528.18</td>\n",
       "      <td>1</td>\n",
       "      <td>1</td>\n",
       "      <td>0</td>\n",
       "      <td>196260.30</td>\n",
       "    </tr>\n",
       "    <tr>\n",
       "      <th>4</th>\n",
       "      <td>383</td>\n",
       "      <td>15568240</td>\n",
       "      <td>Ting</td>\n",
       "      <td>492</td>\n",
       "      <td>1.0</td>\n",
       "      <td>0.0</td>\n",
       "      <td>30</td>\n",
       "      <td>10</td>\n",
       "      <td>77168.87</td>\n",
       "      <td>2</td>\n",
       "      <td>0</td>\n",
       "      <td>1</td>\n",
       "      <td>146700.22</td>\n",
       "    </tr>\n",
       "  </tbody>\n",
       "</table>\n",
       "</div>"
      ],
      "text/plain": [
       "   RowNumber  CustomerId     Surname  CreditScore  Geography  Gender  Age  \\\n",
       "0       4801    15679810     Chapman          690        0.0     1.0   39   \n",
       "1       2102    15778934  Napolitani          678        2.0     0.0   49   \n",
       "2       4487    15660646     Fanucci          528        0.0     1.0   35   \n",
       "3       1127    15593973      Wilkie          663        2.0     0.0   33   \n",
       "4        383    15568240        Ting          492        1.0     0.0   30   \n",
       "\n",
       "   Tenure    Balance  NumOfProducts  HasCrCard  IsActiveMember  \\\n",
       "0       6       0.00              2          1               0   \n",
       "1       8       0.00              2          0               1   \n",
       "2       3  156687.10              1          1               0   \n",
       "3       8  122528.18              1          1               0   \n",
       "4      10   77168.87              2          0               1   \n",
       "\n",
       "   EstimatedSalary  \n",
       "0        160532.88  \n",
       "1         98090.69  \n",
       "2        199320.77  \n",
       "3        196260.30  \n",
       "4        146700.22  "
      ]
     },
     "execution_count": 62,
     "metadata": {},
     "output_type": "execute_result"
    }
   ],
   "source": [
    "test2.head(n=5)"
   ]
  },
  {
   "cell_type": "code",
   "execution_count": 63,
   "metadata": {},
   "outputs": [
    {
     "data": {
      "text/html": [
       "<div>\n",
       "<style scoped>\n",
       "    .dataframe tbody tr th:only-of-type {\n",
       "        vertical-align: middle;\n",
       "    }\n",
       "\n",
       "    .dataframe tbody tr th {\n",
       "        vertical-align: top;\n",
       "    }\n",
       "\n",
       "    .dataframe thead th {\n",
       "        text-align: right;\n",
       "    }\n",
       "</style>\n",
       "<table border=\"1\" class=\"dataframe\">\n",
       "  <thead>\n",
       "    <tr style=\"text-align: right;\">\n",
       "      <th></th>\n",
       "      <th>RowNumber</th>\n",
       "      <th>CustomerId</th>\n",
       "      <th>CreditScore</th>\n",
       "      <th>Geography</th>\n",
       "      <th>Gender</th>\n",
       "      <th>Age</th>\n",
       "      <th>Tenure</th>\n",
       "      <th>Balance</th>\n",
       "      <th>NumOfProducts</th>\n",
       "      <th>HasCrCard</th>\n",
       "      <th>IsActiveMember</th>\n",
       "      <th>EstimatedSalary</th>\n",
       "    </tr>\n",
       "  </thead>\n",
       "  <tbody>\n",
       "    <tr>\n",
       "      <th>0</th>\n",
       "      <td>4801</td>\n",
       "      <td>15679810</td>\n",
       "      <td>690</td>\n",
       "      <td>0.0</td>\n",
       "      <td>1.0</td>\n",
       "      <td>39</td>\n",
       "      <td>6</td>\n",
       "      <td>0.00</td>\n",
       "      <td>2</td>\n",
       "      <td>1</td>\n",
       "      <td>0</td>\n",
       "      <td>160532.88</td>\n",
       "    </tr>\n",
       "    <tr>\n",
       "      <th>1</th>\n",
       "      <td>2102</td>\n",
       "      <td>15778934</td>\n",
       "      <td>678</td>\n",
       "      <td>2.0</td>\n",
       "      <td>0.0</td>\n",
       "      <td>49</td>\n",
       "      <td>8</td>\n",
       "      <td>0.00</td>\n",
       "      <td>2</td>\n",
       "      <td>0</td>\n",
       "      <td>1</td>\n",
       "      <td>98090.69</td>\n",
       "    </tr>\n",
       "    <tr>\n",
       "      <th>2</th>\n",
       "      <td>4487</td>\n",
       "      <td>15660646</td>\n",
       "      <td>528</td>\n",
       "      <td>0.0</td>\n",
       "      <td>1.0</td>\n",
       "      <td>35</td>\n",
       "      <td>3</td>\n",
       "      <td>156687.10</td>\n",
       "      <td>1</td>\n",
       "      <td>1</td>\n",
       "      <td>0</td>\n",
       "      <td>199320.77</td>\n",
       "    </tr>\n",
       "    <tr>\n",
       "      <th>3</th>\n",
       "      <td>1127</td>\n",
       "      <td>15593973</td>\n",
       "      <td>663</td>\n",
       "      <td>2.0</td>\n",
       "      <td>0.0</td>\n",
       "      <td>33</td>\n",
       "      <td>8</td>\n",
       "      <td>122528.18</td>\n",
       "      <td>1</td>\n",
       "      <td>1</td>\n",
       "      <td>0</td>\n",
       "      <td>196260.30</td>\n",
       "    </tr>\n",
       "    <tr>\n",
       "      <th>4</th>\n",
       "      <td>383</td>\n",
       "      <td>15568240</td>\n",
       "      <td>492</td>\n",
       "      <td>1.0</td>\n",
       "      <td>0.0</td>\n",
       "      <td>30</td>\n",
       "      <td>10</td>\n",
       "      <td>77168.87</td>\n",
       "      <td>2</td>\n",
       "      <td>0</td>\n",
       "      <td>1</td>\n",
       "      <td>146700.22</td>\n",
       "    </tr>\n",
       "  </tbody>\n",
       "</table>\n",
       "</div>"
      ],
      "text/plain": [
       "   RowNumber  CustomerId  CreditScore  Geography  Gender  Age  Tenure  \\\n",
       "0       4801    15679810          690        0.0     1.0   39       6   \n",
       "1       2102    15778934          678        2.0     0.0   49       8   \n",
       "2       4487    15660646          528        0.0     1.0   35       3   \n",
       "3       1127    15593973          663        2.0     0.0   33       8   \n",
       "4        383    15568240          492        1.0     0.0   30      10   \n",
       "\n",
       "     Balance  NumOfProducts  HasCrCard  IsActiveMember  EstimatedSalary  \n",
       "0       0.00              2          1               0        160532.88  \n",
       "1       0.00              2          0               1         98090.69  \n",
       "2  156687.10              1          1               0        199320.77  \n",
       "3  122528.18              1          1               0        196260.30  \n",
       "4   77168.87              2          0               1        146700.22  "
      ]
     },
     "execution_count": 63,
     "metadata": {},
     "output_type": "execute_result"
    }
   ],
   "source": [
    "test2  = test2.drop([\"Surname\"],  axis=1) \n",
    "test2.head(n=5)"
   ]
  },
  {
   "cell_type": "code",
   "execution_count": 73,
   "metadata": {},
   "outputs": [
    {
     "data": {
      "text/plain": [
       "800"
      ]
     },
     "execution_count": 73,
     "metadata": {},
     "output_type": "execute_result"
    }
   ],
   "source": [
    "len(test2)"
   ]
  },
  {
   "cell_type": "code",
   "execution_count": 64,
   "metadata": {},
   "outputs": [
    {
     "ename": "IndentationError",
     "evalue": "unexpected indent (Temp/ipykernel_18264/3326954196.py, line 2)",
     "output_type": "error",
     "traceback": [
      "\u001b[1;36m  File \u001b[1;32m\"C:\\Users\\olegi\\AppData\\Local\\Temp/ipykernel_18264/3326954196.py\"\u001b[1;36m, line \u001b[1;32m2\u001b[0m\n\u001b[1;33m    y_train_pred = estimator.predict_proba(train2)[:, 1]\u001b[0m\n\u001b[1;37m    ^\u001b[0m\n\u001b[1;31mIndentationError\u001b[0m\u001b[1;31m:\u001b[0m unexpected indent\n"
     ]
    }
   ],
   "source": [
    "estimator.fit(train2, test2)\n",
    "    y_train_pred = estimator.predict_proba(train2)[:, 1]\n",
    "    y_valid_pred = estimator.predict_proba(test2)[:, 1]"
   ]
  },
  {
   "cell_type": "code",
   "execution_count": 81,
   "metadata": {},
   "outputs": [],
   "source": [
    "x_train = train2.drop([\"Exited\"], axis=1)\n",
    "y_train = train2[\"Exited\"]"
   ]
  },
  {
   "cell_type": "code",
   "execution_count": 82,
   "metadata": {},
   "outputs": [
    {
     "data": {
      "text/html": [
       "<div>\n",
       "<style scoped>\n",
       "    .dataframe tbody tr th:only-of-type {\n",
       "        vertical-align: middle;\n",
       "    }\n",
       "\n",
       "    .dataframe tbody tr th {\n",
       "        vertical-align: top;\n",
       "    }\n",
       "\n",
       "    .dataframe thead th {\n",
       "        text-align: right;\n",
       "    }\n",
       "</style>\n",
       "<table border=\"1\" class=\"dataframe\">\n",
       "  <thead>\n",
       "    <tr style=\"text-align: right;\">\n",
       "      <th></th>\n",
       "      <th>RowNumber</th>\n",
       "      <th>CustomerId</th>\n",
       "      <th>CreditScore</th>\n",
       "      <th>Geography</th>\n",
       "      <th>Gender</th>\n",
       "      <th>Age</th>\n",
       "      <th>Tenure</th>\n",
       "      <th>Balance</th>\n",
       "      <th>NumOfProducts</th>\n",
       "      <th>HasCrCard</th>\n",
       "      <th>IsActiveMember</th>\n",
       "      <th>EstimatedSalary</th>\n",
       "    </tr>\n",
       "  </thead>\n",
       "  <tbody>\n",
       "    <tr>\n",
       "      <th>0</th>\n",
       "      <td>8160</td>\n",
       "      <td>15637427</td>\n",
       "      <td>461</td>\n",
       "      <td>2.0</td>\n",
       "      <td>0.0</td>\n",
       "      <td>25</td>\n",
       "      <td>6</td>\n",
       "      <td>0.00</td>\n",
       "      <td>2</td>\n",
       "      <td>1</td>\n",
       "      <td>1</td>\n",
       "      <td>15306.29</td>\n",
       "    </tr>\n",
       "    <tr>\n",
       "      <th>1</th>\n",
       "      <td>6333</td>\n",
       "      <td>15793046</td>\n",
       "      <td>619</td>\n",
       "      <td>0.0</td>\n",
       "      <td>0.0</td>\n",
       "      <td>35</td>\n",
       "      <td>4</td>\n",
       "      <td>90413.12</td>\n",
       "      <td>1</td>\n",
       "      <td>1</td>\n",
       "      <td>1</td>\n",
       "      <td>20555.21</td>\n",
       "    </tr>\n",
       "    <tr>\n",
       "      <th>2</th>\n",
       "      <td>8896</td>\n",
       "      <td>15658972</td>\n",
       "      <td>699</td>\n",
       "      <td>0.0</td>\n",
       "      <td>0.0</td>\n",
       "      <td>40</td>\n",
       "      <td>8</td>\n",
       "      <td>122038.34</td>\n",
       "      <td>1</td>\n",
       "      <td>1</td>\n",
       "      <td>0</td>\n",
       "      <td>102085.35</td>\n",
       "    </tr>\n",
       "    <tr>\n",
       "      <th>3</th>\n",
       "      <td>5352</td>\n",
       "      <td>15679048</td>\n",
       "      <td>558</td>\n",
       "      <td>1.0</td>\n",
       "      <td>1.0</td>\n",
       "      <td>41</td>\n",
       "      <td>2</td>\n",
       "      <td>124227.14</td>\n",
       "      <td>1</td>\n",
       "      <td>1</td>\n",
       "      <td>1</td>\n",
       "      <td>111184.67</td>\n",
       "    </tr>\n",
       "    <tr>\n",
       "      <th>4</th>\n",
       "      <td>4315</td>\n",
       "      <td>15582276</td>\n",
       "      <td>638</td>\n",
       "      <td>0.0</td>\n",
       "      <td>1.0</td>\n",
       "      <td>34</td>\n",
       "      <td>5</td>\n",
       "      <td>133501.36</td>\n",
       "      <td>1</td>\n",
       "      <td>0</td>\n",
       "      <td>1</td>\n",
       "      <td>155643.04</td>\n",
       "    </tr>\n",
       "  </tbody>\n",
       "</table>\n",
       "</div>"
      ],
      "text/plain": [
       "   RowNumber  CustomerId  CreditScore  Geography  Gender  Age  Tenure  \\\n",
       "0       8160    15637427          461        2.0     0.0   25       6   \n",
       "1       6333    15793046          619        0.0     0.0   35       4   \n",
       "2       8896    15658972          699        0.0     0.0   40       8   \n",
       "3       5352    15679048          558        1.0     1.0   41       2   \n",
       "4       4315    15582276          638        0.0     1.0   34       5   \n",
       "\n",
       "     Balance  NumOfProducts  HasCrCard  IsActiveMember  EstimatedSalary  \n",
       "0       0.00              2          1               1         15306.29  \n",
       "1   90413.12              1          1               1         20555.21  \n",
       "2  122038.34              1          1               0        102085.35  \n",
       "3  124227.14              1          1               1        111184.67  \n",
       "4  133501.36              1          0               1        155643.04  "
      ]
     },
     "execution_count": 82,
     "metadata": {},
     "output_type": "execute_result"
    }
   ],
   "source": [
    "x_train.head(n=5)"
   ]
  },
  {
   "cell_type": "code",
   "execution_count": 83,
   "metadata": {},
   "outputs": [
    {
     "data": {
      "text/plain": [
       "0    0\n",
       "1    0\n",
       "2    0\n",
       "3    0\n",
       "4    0\n",
       "Name: Exited, dtype: int64"
      ]
     },
     "execution_count": 83,
     "metadata": {},
     "output_type": "execute_result"
    }
   ],
   "source": [
    "y_train.head(n=5)"
   ]
  },
  {
   "cell_type": "code",
   "execution_count": 84,
   "metadata": {},
   "outputs": [
    {
     "data": {
      "text/plain": [
       "7200"
      ]
     },
     "execution_count": 84,
     "metadata": {},
     "output_type": "execute_result"
    }
   ],
   "source": [
    "len(y_train)"
   ]
  },
  {
   "cell_type": "code",
   "execution_count": 98,
   "metadata": {},
   "outputs": [],
   "source": [
    "def fit_evaluate_model(estimator, x_train, y_train, test2):\n",
    "    \"\"\"\n",
    "    Функция для обучения и оценки качества модели.\n",
    "\n",
    "    Parameters\n",
    "    ----------\n",
    "    estimator: callable\n",
    "        Объект для обучения и применения модели.\n",
    "\n",
    "    x_train: pandas.DataFrame\n",
    "        Матрица признаков для обучения модели.\n",
    "\n",
    "    y_train: pandas.Series\n",
    "        Вектор целевой переменной для обучения модели.\n",
    "\n",
    "    x_valid: pandas.DataFrame\n",
    "        Матрица признаков для валидации модели.\n",
    "\n",
    "    y_valid: pandas.Series\n",
    "        Вектор целевой переменной для валидации модели.\n",
    "\n",
    "    Returns\n",
    "    -------\n",
    "    y_train_pred: np.array\n",
    "        Вектор прогнозов для обучающей выборки\n",
    "\n",
    "    y_valid_pred: np.array\n",
    "        Вектор прогнозов для валидационной выборки\n",
    "\n",
    "    \"\"\"\n",
    "    estimator.fit(x_train, y_train)\n",
    "    y_train_pred = estimator.predict_proba(x_train)[:, 1]\n",
    "    y_valid_pred = estimator.predict_proba(test2)[:, 1]\n",
    "\n",
    "  #  train_score = roc_auc_score(y_train, y_train_pred)\n",
    " #   valid_score = roc_auc_score(y_valid, y_valid_pred)\n",
    "  #  print(f\"Model Score: train = {round(train_score, 4)})\n",
    "\n",
    "    return y_train_pred, y_valid_pred"
   ]
  },
  {
   "cell_type": "code",
   "execution_count": 102,
   "metadata": {},
   "outputs": [],
   "source": [
    "tree = DecisionTreeClassifier(\n",
    "    max_depth=5, random_state=27\n",
    ")\n",
    "y_train_pred, y_valid_pred = fit_evaluate_model(\n",
    "    tree, x_train, y_train, test2\n",
    ")"
   ]
  },
  {
   "cell_type": "code",
   "execution_count": 103,
   "metadata": {},
   "outputs": [
    {
     "data": {
      "text/plain": [
       "array([0.03135889, 0.04609929, 0.13361612, 0.13361612, 0.07149489,\n",
       "       0.03135889, 0.03135889, 0.13361612, 0.13361612, 0.04609929,\n",
       "       0.13361612, 0.13361612, 0.21674877, 0.13361612, 0.07149489,\n",
       "       0.13361612, 0.43137255, 0.13361612, 0.1884058 , 0.07149489,\n",
       "       0.03135889, 0.07149489, 0.21674877, 0.21674877, 0.07149489,\n",
       "       0.03135889, 0.1884058 , 0.34006734, 0.13361612, 0.13361612,\n",
       "       1.        , 0.03135889, 0.21674877, 0.13361612, 0.13361612,\n",
       "       0.34006734, 0.13361612, 0.58792651, 0.07149489, 0.13361612,\n",
       "       0.07149489, 0.58792651, 0.13361612, 0.04609929, 0.21674877,\n",
       "       0.13361612, 0.15979381, 0.03135889, 0.19811321, 0.07149489,\n",
       "       0.91566265, 0.91566265, 0.1884058 , 0.34006734, 0.13361612,\n",
       "       0.03135889, 0.19811321, 0.34006734, 0.58792651, 0.13361612,\n",
       "       0.04609929, 0.43137255, 0.58792651, 0.91566265, 0.13361612,\n",
       "       0.80555556, 0.13361612, 0.04609929, 0.13361612, 0.21674877,\n",
       "       0.98214286, 0.1884058 , 1.        , 0.19811321, 0.00777778,\n",
       "       0.13361612, 0.13361612, 0.13361612, 0.07149489, 0.1884058 ,\n",
       "       0.07149489, 0.00777778, 0.13361612, 0.13361612, 0.13361612,\n",
       "       0.13361612, 0.21674877, 0.00777778, 1.        , 0.13361612,\n",
       "       0.58792651, 0.34006734, 0.13361612, 0.13361612, 0.80555556,\n",
       "       0.04609929, 0.13361612, 0.43137255, 0.07149489, 0.00777778,\n",
       "       0.34006734, 0.13361612, 0.13361612, 0.58792651, 0.04609929,\n",
       "       0.07149489, 0.07149489, 0.13361612, 0.13361612, 0.04609929,\n",
       "       0.58792651, 0.13361612, 0.13361612, 0.13361612, 0.04609929,\n",
       "       0.13361612, 0.07149489, 0.13361612, 0.13361612, 1.        ,\n",
       "       0.58792651, 0.1884058 , 0.07149489, 0.13361612, 0.91566265,\n",
       "       0.13361612, 0.58792651, 0.43137255, 0.03135889, 0.43137255,\n",
       "       0.07149489, 0.19811321, 0.00777778, 0.07149489, 0.07149489,\n",
       "       0.00777778, 0.43137255, 0.07149489, 0.13361612, 0.58792651,\n",
       "       0.00777778, 0.13361612, 0.07149489, 0.13361612, 0.07149489,\n",
       "       0.34006734, 0.80555556, 0.43137255, 0.07149489, 0.58792651,\n",
       "       0.13361612, 0.1884058 , 0.00777778, 0.00777778, 0.07149489,\n",
       "       0.43137255, 0.13361612, 0.43137255, 0.00777778, 0.58792651,\n",
       "       0.80555556, 0.19811321, 0.91566265, 0.34006734, 0.43137255,\n",
       "       0.07149489, 0.1884058 , 0.00777778, 0.13361612, 0.00777778,\n",
       "       0.34006734, 0.13361612, 0.21674877, 0.58792651, 0.34006734,\n",
       "       0.00777778, 0.13361612, 0.91566265, 0.03135889, 0.13361612,\n",
       "       0.13361612, 0.03135889, 0.00777778, 0.00777778, 0.00777778,\n",
       "       0.00777778, 0.13361612, 0.13361612, 0.13361612, 0.43137255,\n",
       "       0.13361612, 0.19811321, 0.13361612, 0.13361612, 0.21674877,\n",
       "       0.13361612, 0.58792651, 0.07149489, 0.07149489, 0.13361612,\n",
       "       0.1884058 , 0.00777778, 0.24137931, 0.03135889, 0.03135889,\n",
       "       0.00777778, 0.15979381, 0.03135889, 0.04609929, 0.34006734,\n",
       "       0.00777778, 0.13361612, 0.00777778, 0.58792651, 0.1884058 ,\n",
       "       0.13361612, 0.21674877, 0.07149489, 0.24137931, 0.43137255,\n",
       "       0.21674877, 0.13361612, 0.13361612, 0.13361612, 0.80555556,\n",
       "       0.00777778, 0.07149489, 0.04609929, 0.43137255, 0.07149489,\n",
       "       0.1884058 , 0.13361612, 0.13361612, 0.07149489, 0.1884058 ,\n",
       "       0.13361612, 0.58792651, 0.15979381, 0.19811321, 0.07149489,\n",
       "       0.03135889, 0.13361612, 0.21674877, 0.43137255, 0.34006734,\n",
       "       0.13361612, 0.13361612, 0.07149489, 0.13361612, 0.03135889,\n",
       "       0.13361612, 0.03135889, 0.21674877, 0.43137255, 0.13361612,\n",
       "       0.07149489, 0.43137255, 0.19811321, 0.13361612, 0.13361612,\n",
       "       0.19811321, 0.13361612, 0.98214286, 0.13361612, 0.07149489,\n",
       "       0.03135889, 0.34006734, 1.        , 0.00777778, 0.58792651,\n",
       "       0.43137255, 0.00777778, 0.80555556, 0.07149489, 0.13361612,\n",
       "       0.43137255, 0.00777778, 0.07149489, 0.43137255, 0.13361612,\n",
       "       0.13361612, 0.13361612, 0.13361612, 0.00777778, 0.04609929,\n",
       "       0.03135889, 0.13361612, 0.43137255, 0.15979381, 0.04609929,\n",
       "       0.13361612, 0.00777778, 0.13361612, 0.13361612, 0.00777778,\n",
       "       1.        , 0.91566265, 0.13361612, 0.13361612, 0.43137255,\n",
       "       0.07149489, 0.13361612, 0.58792651, 0.00777778, 0.        ,\n",
       "       0.13361612, 0.13361612, 0.07149489, 0.43137255, 0.13361612,\n",
       "       0.21674877, 0.13361612, 0.58792651, 0.07149489, 0.19811321,\n",
       "       0.91566265, 0.00777778, 0.21674877, 0.1884058 , 0.13361612,\n",
       "       0.21674877, 0.19811321, 0.00777778, 0.13361612, 0.07149489,\n",
       "       0.13361612, 0.21674877, 0.13361612, 0.80555556, 0.07149489,\n",
       "       0.21674877, 0.43137255, 0.43137255, 0.34006734, 0.03135889,\n",
       "       0.00777778, 0.13361612, 1.        , 0.00777778, 0.58792651,\n",
       "       0.03135889, 0.13361612, 0.00777778, 0.04609929, 0.43137255,\n",
       "       0.07149489, 0.58792651, 0.03135889, 0.07149489, 0.13361612,\n",
       "       0.07149489, 0.58792651, 0.13361612, 0.07149489, 0.34006734,\n",
       "       0.1884058 , 0.03135889, 0.13361612, 0.07149489, 1.        ,\n",
       "       0.04609929, 0.07149489, 0.13361612, 0.03135889, 0.58792651,\n",
       "       0.1884058 , 0.00777778, 0.00777778, 0.15979381, 0.13361612,\n",
       "       0.04609929, 0.34006734, 0.58792651, 0.1884058 , 1.        ,\n",
       "       0.13361612, 0.07149489, 0.21674877, 0.24137931, 0.13361612,\n",
       "       0.04609929, 0.13361612, 0.00777778, 0.19811321, 0.80555556,\n",
       "       0.03135889, 0.19811321, 0.34006734, 0.07149489, 0.13361612,\n",
       "       0.03135889, 0.19811321, 0.13361612, 0.19811321, 0.13361612,\n",
       "       0.04609929, 0.07149489, 0.13361612, 0.00777778, 0.43137255,\n",
       "       0.00777778, 0.13361612, 0.03135889, 0.07149489, 0.07149489,\n",
       "       0.80555556, 0.43137255, 0.91566265, 0.03135889, 0.13361612,\n",
       "       0.00777778, 0.00777778, 0.19811321, 0.03135889, 0.03135889,\n",
       "       0.91566265, 0.03135889, 0.13361612, 0.13361612, 0.04609929,\n",
       "       0.00777778, 0.        , 0.00777778, 0.19811321, 0.03135889,\n",
       "       0.15979381, 0.07149489, 0.58792651, 0.13361612, 0.80555556,\n",
       "       0.04609929, 0.00777778, 0.15979381, 0.13361612, 0.00777778,\n",
       "       0.03135889, 0.21674877, 0.07149489, 0.43137255, 0.07149489,\n",
       "       0.00777778, 0.04609929, 0.98214286, 0.15979381, 0.43137255,\n",
       "       0.13361612, 0.07149489, 0.00777778, 0.04609929, 0.58792651,\n",
       "       1.        , 0.04609929, 0.19811321, 0.00777778, 0.07149489,\n",
       "       0.13361612, 0.13361612, 0.07149489, 0.13361612, 0.13361612,\n",
       "       0.13361612, 0.15979381, 0.19811321, 0.13361612, 0.03135889,\n",
       "       0.13361612, 0.43137255, 0.04609929, 0.13361612, 0.19811321,\n",
       "       0.07149489, 0.13361612, 0.13361612, 0.13361612, 0.21674877,\n",
       "       0.13361612, 0.03135889, 0.00777778, 0.75      , 0.21674877,\n",
       "       1.        , 0.34006734, 0.00777778, 0.43137255, 0.19811321,\n",
       "       0.15979381, 0.91566265, 0.00777778, 0.00777778, 0.03135889,\n",
       "       0.00777778, 0.91566265, 0.21674877, 0.58792651, 0.03135889,\n",
       "       0.07149489, 0.07149489, 0.07149489, 0.04609929, 0.21674877,\n",
       "       0.07149489, 0.13361612, 0.00777778, 0.13361612, 0.21674877,\n",
       "       0.58792651, 0.13361612, 0.24137931, 0.1884058 , 0.13361612,\n",
       "       0.13361612, 0.58792651, 0.13361612, 0.07149489, 0.13361612,\n",
       "       0.00777778, 0.58792651, 0.04609929, 0.98214286, 0.00777778,\n",
       "       0.91566265, 0.58792651, 0.07149489, 0.07149489, 0.07149489,\n",
       "       0.13361612, 0.43137255, 0.13361612, 0.13361612, 0.07149489,\n",
       "       0.13361612, 0.07149489, 0.00777778, 0.58792651, 0.13361612,\n",
       "       0.13361612, 0.03135889, 0.03135889, 0.13361612, 0.07149489,\n",
       "       0.43137255, 0.1884058 , 0.34006734, 0.21674877, 0.1884058 ,\n",
       "       0.03135889, 0.58792651, 0.00777778, 0.07149489, 0.00777778,\n",
       "       0.13361612, 0.80555556, 0.04609929, 0.58792651, 0.00777778,\n",
       "       0.13361612, 0.21674877, 0.07149489, 0.13361612, 0.91566265,\n",
       "       0.13361612, 0.00777778, 0.03135889, 0.13361612, 0.03135889,\n",
       "       0.21674877, 0.58792651, 0.15979381, 0.13361612, 0.13361612,\n",
       "       0.58792651, 0.03135889, 0.07149489, 0.13361612, 0.03135889,\n",
       "       0.34006734, 0.58792651, 0.00777778, 0.21674877, 0.00777778,\n",
       "       0.13361612, 0.03135889, 0.07149489, 0.13361612, 0.03135889,\n",
       "       0.00777778, 0.19811321, 0.13361612, 0.43137255, 0.21674877,\n",
       "       0.13361612, 0.03135889, 0.03135889, 0.13361612, 0.43137255,\n",
       "       0.13361612, 0.00777778, 0.13361612, 0.13361612, 0.21674877,\n",
       "       0.07149489, 0.34006734, 0.21674877, 0.07149489, 0.00777778,\n",
       "       0.13361612, 0.43137255, 0.13361612, 0.13361612, 0.13361612,\n",
       "       0.21674877, 1.        , 0.07149489, 0.13361612, 0.07149489,\n",
       "       0.21674877, 0.58792651, 0.91566265, 0.07149489, 0.13361612,\n",
       "       0.13361612, 0.00777778, 0.07149489, 0.13361612, 0.13361612,\n",
       "       0.13361612, 0.13361612, 0.00777778, 0.07149489, 0.13361612,\n",
       "       0.07149489, 0.15979381, 0.13361612, 0.03135889, 0.91566265,\n",
       "       0.43137255, 0.43137255, 0.00777778, 0.00777778, 0.19811321,\n",
       "       0.19811321, 0.00777778, 0.13361612, 0.13361612, 0.00777778,\n",
       "       0.03135889, 1.        , 0.13361612, 0.13361612, 0.13361612,\n",
       "       0.21674877, 0.03135889, 0.19811321, 0.98214286, 0.03135889,\n",
       "       0.58792651, 0.13361612, 0.03135889, 0.34006734, 0.91566265,\n",
       "       0.13361612, 0.07149489, 0.07149489, 0.00777778, 0.13361612,\n",
       "       0.13361612, 0.58792651, 0.07149489, 0.07149489, 0.07149489,\n",
       "       0.03135889, 0.00777778, 0.07149489, 0.13361612, 0.21674877,\n",
       "       0.34006734, 0.43137255, 0.03135889, 0.34006734, 0.80555556,\n",
       "       0.03135889, 0.13361612, 0.00777778, 0.43137255, 0.00777778,\n",
       "       0.98214286, 0.13361612, 0.13361612, 0.00777778, 0.91566265,\n",
       "       0.13361612, 0.03135889, 0.13361612, 0.13361612, 0.13361612,\n",
       "       0.58792651, 0.07149489, 0.03135889, 0.07149489, 0.21674877,\n",
       "       0.80555556, 0.13361612, 0.07149489, 0.13361612, 0.03135889,\n",
       "       0.19811321, 0.1884058 , 0.13361612, 0.13361612, 0.58792651,\n",
       "       0.19811321, 0.00777778, 0.1884058 , 0.00777778, 0.00777778,\n",
       "       0.03135889, 0.13361612, 0.34006734, 0.21674877, 0.34006734,\n",
       "       0.21674877, 0.13361612, 0.58792651, 0.13361612, 0.43137255,\n",
       "       0.58792651, 0.13361612, 0.13361612, 0.07149489, 0.00777778,\n",
       "       0.07149489, 0.34006734, 0.00777778, 0.21674877, 0.00777778,\n",
       "       0.04609929, 0.13361612, 0.03135889, 0.00777778, 0.13361612,\n",
       "       0.13361612, 0.00777778, 0.1884058 , 0.03135889, 0.07149489,\n",
       "       0.80555556, 0.13361612, 0.13361612, 0.07149489, 0.1884058 ,\n",
       "       0.13361612, 0.03135889, 0.19811321, 0.43137255, 0.07149489,\n",
       "       0.80555556, 0.07149489, 0.13361612, 0.58792651, 0.04609929,\n",
       "       0.13361612, 0.00777778, 0.13361612, 0.43137255, 0.58792651,\n",
       "       0.13361612, 0.07149489, 0.13361612, 0.13361612, 0.00777778,\n",
       "       0.07149489, 0.00777778, 0.03135889, 0.15979381, 0.03135889,\n",
       "       0.91566265, 0.21674877, 0.00777778, 0.19811321, 0.07149489,\n",
       "       0.1884058 , 0.00777778, 0.98214286, 0.58792651, 0.1884058 ,\n",
       "       0.13361612, 0.91566265, 0.00777778, 0.13361612, 0.13361612,\n",
       "       0.58792651, 0.13361612, 0.04609929, 0.13361612, 0.03135889,\n",
       "       0.13361612, 0.07149489, 0.07149489, 0.15979381, 0.13361612])"
      ]
     },
     "execution_count": 103,
     "metadata": {},
     "output_type": "execute_result"
    }
   ],
   "source": [
    "y_valid_pred"
   ]
  },
  {
   "cell_type": "code",
   "execution_count": 101,
   "metadata": {},
   "outputs": [
    {
     "data": {
      "text/plain": [
       "[]"
      ]
     },
     "execution_count": 101,
     "metadata": {},
     "output_type": "execute_result"
    }
   ],
   "source": [
    "y_train_pred"
   ]
  },
  {
   "cell_type": "code",
   "execution_count": 104,
   "metadata": {},
   "outputs": [
    {
     "data": {
      "text/plain": [
       "800"
      ]
     },
     "execution_count": 104,
     "metadata": {},
     "output_type": "execute_result"
    }
   ],
   "source": [
    "len(y_valid_pred)"
   ]
  },
  {
   "cell_type": "code",
   "execution_count": 91,
   "metadata": {},
   "outputs": [],
   "source": [
    "y_valid_pred = []"
   ]
  },
  {
   "cell_type": "code",
   "execution_count": 95,
   "metadata": {},
   "outputs": [],
   "source": [
    "y_train_pred = []"
   ]
  },
  {
   "cell_type": "code",
   "execution_count": 97,
   "metadata": {},
   "outputs": [
    {
     "data": {
      "text/plain": [
       "0"
      ]
     },
     "execution_count": 97,
     "metadata": {},
     "output_type": "execute_result"
    }
   ],
   "source": [
    "len(y_train_pred)"
   ]
  },
  {
   "cell_type": "code",
   "execution_count": 105,
   "metadata": {},
   "outputs": [],
   "source": [
    "submission = test[['RowNumber']].copy()\n",
    "baseline = y_valid_pred\n",
    "submission['predict'] = baseline"
   ]
  },
  {
   "cell_type": "code",
   "execution_count": 106,
   "metadata": {},
   "outputs": [
    {
     "data": {
      "text/html": [
       "<div>\n",
       "<style scoped>\n",
       "    .dataframe tbody tr th:only-of-type {\n",
       "        vertical-align: middle;\n",
       "    }\n",
       "\n",
       "    .dataframe tbody tr th {\n",
       "        vertical-align: top;\n",
       "    }\n",
       "\n",
       "    .dataframe thead th {\n",
       "        text-align: right;\n",
       "    }\n",
       "</style>\n",
       "<table border=\"1\" class=\"dataframe\">\n",
       "  <thead>\n",
       "    <tr style=\"text-align: right;\">\n",
       "      <th></th>\n",
       "      <th>RowNumber</th>\n",
       "      <th>predict</th>\n",
       "    </tr>\n",
       "  </thead>\n",
       "  <tbody>\n",
       "    <tr>\n",
       "      <th>0</th>\n",
       "      <td>4801</td>\n",
       "      <td>0.031359</td>\n",
       "    </tr>\n",
       "    <tr>\n",
       "      <th>1</th>\n",
       "      <td>2102</td>\n",
       "      <td>0.046099</td>\n",
       "    </tr>\n",
       "    <tr>\n",
       "      <th>2</th>\n",
       "      <td>4487</td>\n",
       "      <td>0.133616</td>\n",
       "    </tr>\n",
       "    <tr>\n",
       "      <th>3</th>\n",
       "      <td>1127</td>\n",
       "      <td>0.133616</td>\n",
       "    </tr>\n",
       "    <tr>\n",
       "      <th>4</th>\n",
       "      <td>383</td>\n",
       "      <td>0.071495</td>\n",
       "    </tr>\n",
       "  </tbody>\n",
       "</table>\n",
       "</div>"
      ],
      "text/plain": [
       "   RowNumber   predict\n",
       "0       4801  0.031359\n",
       "1       2102  0.046099\n",
       "2       4487  0.133616\n",
       "3       1127  0.133616\n",
       "4        383  0.071495"
      ]
     },
     "execution_count": 106,
     "metadata": {},
     "output_type": "execute_result"
    }
   ],
   "source": [
    "submission.head()"
   ]
  },
  {
   "cell_type": "code",
   "execution_count": 107,
   "metadata": {},
   "outputs": [
    {
     "name": "stdout",
     "output_type": "stream",
     "text": [
      "Запускаю тестирование...\n",
      "Проверяю метрики...\n",
      "Твой результат: 0.8268111443967651\n",
      "Наконец-то мы  сэкономили денег! Чтобы себя порадовать - можно посчитать примерные значения в деньгах, как мы посчитали с бейзлайном :). Финальная кодовая фраза '- моя любимая наука' Если вспомнить все предыдущие получится: Data Science - моя любимая наукаЧто-то правда, то правда - обожаю анализировать данные, особенно, когда мне помогают\n"
     ]
    }
   ],
   "source": [
    "BotProductStar.production_quality(answer=submission)"
   ]
  },
  {
   "cell_type": "markdown",
   "metadata": {},
   "source": [
    "Следующая часть урока полностью ложится на ваши плечи:\n",
    "* Нужно правильно сгенерировать вспомогательные признаки, но сильно можно не увлекаться.\n",
    "* Правильно их обработать для подачи в модель.\n",
    "* И построить модель, которая будет давать достаточное качество."
   ]
  },
  {
   "cell_type": "markdown",
   "metadata": {},
   "source": [
    "Для защиты проекта необходимо будет построить модель, качество которой дает ROC-AUC не ниже 0.8. Оцениваться модель будет с помощью бота, а точнее функции - `BotProductStar.production_quality(answer=submission)`\n",
    "\n",
    "\n",
    "\n",
    "submission - это датафрем, в котором в первой колонке указан RowNumber из файла test, а в колонке predict предсказанная вероятность ухода клиента."
   ]
  },
  {
   "cell_type": "markdown",
   "metadata": {},
   "source": [
    "Здесь можно продолжить построение модели. Давайте вспомним, какие пункты осталось сделать."
   ]
  },
  {
   "cell_type": "markdown",
   "metadata": {
    "tags": []
   },
   "source": [
    "### Подготовка данных\n",
    "   - [x] Выборка данных\n",
    "   - [x] Разведочный анализ данных\n",
    "   - [ ] Очистка данных на основе анализа\n",
    "   - [ ] Генерация вспомогательных данных\n",
    "   - [ ] Предобработка данных"
   ]
  },
  {
   "cell_type": "markdown",
   "metadata": {},
   "source": [
    "####  Моделирование\n",
    "   - [ ]  Выбор алгоритмов\t\n",
    "   - [ ]  Выбор мета-метрики\t\n",
    "   - [ ]  План тестирования алгоритма\n",
    "   - [ ]  Обучение моделей\n",
    "   - [ ]  Оценка качества модели"
   ]
  }
 ],
 "metadata": {
  "kernelspec": {
   "display_name": "Python 3 (ipykernel)",
   "language": "python",
   "name": "python3"
  },
  "language_info": {
   "codemirror_mode": {
    "name": "ipython",
    "version": 3
   },
   "file_extension": ".py",
   "mimetype": "text/x-python",
   "name": "python",
   "nbconvert_exporter": "python",
   "pygments_lexer": "ipython3",
   "version": "3.8.6"
  }
 },
 "nbformat": 4,
 "nbformat_minor": 4
}
